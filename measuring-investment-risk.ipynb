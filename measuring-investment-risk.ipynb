{
 "cells": [
  {
   "cell_type": "markdown",
   "metadata": {},
   "source": [
    "# Security's risk\n",
    "\n",
    "Risk and return are the two most important dimensions on investment decision making.\n",
    "But how can we measure and forecast risk?\n",
    "\n",
    "## What is Risk?\n",
    "\n",
    "For example we bought a security with \\\\$1000(USD) and we know that the stock's average return is 15\\%.\n",
    "How was this average made whether:\n",
    "* The historical observations of earn are 14\\% the first year 16\\% the next year 13\\% the next year and 17\\% the last year?\n",
    "* Or the historical observations are +50\\% vs -20\\% vs -20\\% vs +50\\%.\n",
    "\n",
    "In the first case we have a stable amount of earn over time (between 13\\% to 17\\%).\n",
    "But in the second case things change a lot because we have huge amount of variability between the observations. The average rate of return is the same but we can't have an idea of what comes next because of the huge variability.\n",
    "\n",
    "### Hence variability plays an important role and it is best measure of risk.\n",
    "\n",
    "A volatile market is more prone to deviate from the historical rate of returns.\n",
    "\n",
    "Most people want to have a clear idea of the returns of a security or a portfolio of securities and they try to reduce the risk that they exposed to.\n",
    "\n",
    "### A great deal to help us quantify the risk are the statistical measures  Variance(S^2) and Standard deviation(S).\n",
    "\n",
    "* The variance of a security measures the dispersion of a set of data points around the mean.\n",
    "$$ S^2 = \\frac{Σ(Χ-\\bar{X})^2}{N-1} $$\n",
    "\n",
    "Hence, in the previous example the mean is 15\\% and we have to subtract from each of the observations in the power of two  and add the result.\n",
    "$ (14\\%-15\\%)^2 + (16\\% -15\\%)^2 + (13\\%-15\\%)^2 + (17\\% -15\\%)^2 $. These are the four dispersions from the mean in the power of two.\n",
    "After we have the result we have to divide by the number of observations minus one. In this case $4-1$.\n",
    "Finally we have the variance which is \n",
    "$$S^2=0.0333$$\n",
    "\n",
    "Now, if we'll take the square root of the $S^2$ we'll find the standard deviation:\n",
    "$$ S=\\sqrt{S^2}=1.8\\%$$\n",
    "\n",
    "Let's do the some thing for the second set of observations.\n",
    "We'll find $ S^2=16\\% $ and $S=\\sqrt{S^2}=40\\%$\n",
    "\n",
    "The conclusion is that the second set has higher disporsions so is more risky that the first one.\n",
    "\n",
    "# Let's calculate the risk of a security!!"
   ]
  },
  {
   "cell_type": "code",
   "execution_count": 1,
   "metadata": {},
   "outputs": [],
   "source": [
    "# Import the libraries\n",
    "import pandas as pd\n",
    "import numpy as np\n",
    "import matplotlib.pyplot as plt\n",
    "import yfinance as yf"
   ]
  },
  {
   "cell_type": "code",
   "execution_count": 3,
   "metadata": {},
   "outputs": [
    {
     "name": "stdout",
     "output_type": "stream",
     "text": [
      "[*********************100%***********************]  1 of 1 completed\n",
      "[*********************100%***********************]  1 of 1 completed\n"
     ]
    },
    {
     "data": {
      "text/html": [
       "<div>\n",
       "<style scoped>\n",
       "    .dataframe tbody tr th:only-of-type {\n",
       "        vertical-align: middle;\n",
       "    }\n",
       "\n",
       "    .dataframe tbody tr th {\n",
       "        vertical-align: top;\n",
       "    }\n",
       "\n",
       "    .dataframe thead th {\n",
       "        text-align: right;\n",
       "    }\n",
       "</style>\n",
       "<table border=\"1\" class=\"dataframe\">\n",
       "  <thead>\n",
       "    <tr style=\"text-align: right;\">\n",
       "      <th></th>\n",
       "      <th>PG</th>\n",
       "      <th>TSLA</th>\n",
       "    </tr>\n",
       "    <tr>\n",
       "      <th>Date</th>\n",
       "      <th></th>\n",
       "      <th></th>\n",
       "    </tr>\n",
       "  </thead>\n",
       "  <tbody>\n",
       "    <tr>\n",
       "      <th>2012-01-03</th>\n",
       "      <td>51.261551</td>\n",
       "      <td>28.080000</td>\n",
       "    </tr>\n",
       "    <tr>\n",
       "      <th>2012-01-04</th>\n",
       "      <td>51.238533</td>\n",
       "      <td>27.709999</td>\n",
       "    </tr>\n",
       "    <tr>\n",
       "      <th>2012-01-05</th>\n",
       "      <td>51.023746</td>\n",
       "      <td>27.120001</td>\n",
       "    </tr>\n",
       "    <tr>\n",
       "      <th>2012-01-06</th>\n",
       "      <td>50.901016</td>\n",
       "      <td>26.910000</td>\n",
       "    </tr>\n",
       "    <tr>\n",
       "      <th>2012-01-09</th>\n",
       "      <td>51.115807</td>\n",
       "      <td>27.250000</td>\n",
       "    </tr>\n",
       "  </tbody>\n",
       "</table>\n",
       "</div>"
      ],
      "text/plain": [
       "                   PG       TSLA\n",
       "Date                            \n",
       "2012-01-03  51.261551  28.080000\n",
       "2012-01-04  51.238533  27.709999\n",
       "2012-01-05  51.023746  27.120001\n",
       "2012-01-06  50.901016  26.910000\n",
       "2012-01-09  51.115807  27.250000"
      ]
     },
     "execution_count": 3,
     "metadata": {},
     "output_type": "execute_result"
    }
   ],
   "source": [
    "# Create tickers\n",
    "tickers=['PG','TSLA']\n",
    "# create the DataFrame\n",
    "data= pd.DataFrame()\n",
    "#Load the data\n",
    "for t in tickers:\n",
    "    data[t]=yf.download(t,start='2012-1-1')['Adj Close']\n",
    "# See the data\n",
    "data.head()"
   ]
  },
  {
   "cell_type": "code",
   "execution_count": 4,
   "metadata": {},
   "outputs": [],
   "source": [
    "#Let's save the data\n",
    "data.to_csv(\"data-for-risk-measure.csv\")\n"
   ]
  },
  {
   "cell_type": "code",
   "execution_count": 7,
   "metadata": {},
   "outputs": [
    {
     "data": {
      "text/html": [
       "<div>\n",
       "<style scoped>\n",
       "    .dataframe tbody tr th:only-of-type {\n",
       "        vertical-align: middle;\n",
       "    }\n",
       "\n",
       "    .dataframe tbody tr th {\n",
       "        vertical-align: top;\n",
       "    }\n",
       "\n",
       "    .dataframe thead th {\n",
       "        text-align: right;\n",
       "    }\n",
       "</style>\n",
       "<table border=\"1\" class=\"dataframe\">\n",
       "  <thead>\n",
       "    <tr style=\"text-align: right;\">\n",
       "      <th></th>\n",
       "      <th>PG</th>\n",
       "      <th>TSLA</th>\n",
       "    </tr>\n",
       "    <tr>\n",
       "      <th>Date</th>\n",
       "      <th></th>\n",
       "      <th></th>\n",
       "    </tr>\n",
       "  </thead>\n",
       "  <tbody>\n",
       "    <tr>\n",
       "      <th>2012-01-03</th>\n",
       "      <td>51.261551</td>\n",
       "      <td>28.080000</td>\n",
       "    </tr>\n",
       "    <tr>\n",
       "      <th>2012-01-04</th>\n",
       "      <td>51.238533</td>\n",
       "      <td>27.709999</td>\n",
       "    </tr>\n",
       "    <tr>\n",
       "      <th>2012-01-05</th>\n",
       "      <td>51.023746</td>\n",
       "      <td>27.120001</td>\n",
       "    </tr>\n",
       "    <tr>\n",
       "      <th>2012-01-06</th>\n",
       "      <td>50.901016</td>\n",
       "      <td>26.910000</td>\n",
       "    </tr>\n",
       "    <tr>\n",
       "      <th>2012-01-09</th>\n",
       "      <td>51.115807</td>\n",
       "      <td>27.250000</td>\n",
       "    </tr>\n",
       "  </tbody>\n",
       "</table>\n",
       "</div>"
      ],
      "text/plain": [
       "                   PG       TSLA\n",
       "Date                            \n",
       "2012-01-03  51.261551  28.080000\n",
       "2012-01-04  51.238533  27.709999\n",
       "2012-01-05  51.023746  27.120001\n",
       "2012-01-06  50.901016  26.910000\n",
       "2012-01-09  51.115807  27.250000"
      ]
     },
     "execution_count": 7,
     "metadata": {},
     "output_type": "execute_result"
    }
   ],
   "source": [
    "#Let's import the data\n",
    "data=pd.read_csv(\"data-for-risk-measure.csv\",index_col=0)\n",
    "#See the data\n",
    "data.head()"
   ]
  },
  {
   "cell_type": "code",
   "execution_count": 8,
   "metadata": {},
   "outputs": [
    {
     "data": {
      "text/html": [
       "<div>\n",
       "<style scoped>\n",
       "    .dataframe tbody tr th:only-of-type {\n",
       "        vertical-align: middle;\n",
       "    }\n",
       "\n",
       "    .dataframe tbody tr th {\n",
       "        vertical-align: top;\n",
       "    }\n",
       "\n",
       "    .dataframe thead th {\n",
       "        text-align: right;\n",
       "    }\n",
       "</style>\n",
       "<table border=\"1\" class=\"dataframe\">\n",
       "  <thead>\n",
       "    <tr style=\"text-align: right;\">\n",
       "      <th></th>\n",
       "      <th>PG</th>\n",
       "      <th>TSLA</th>\n",
       "    </tr>\n",
       "    <tr>\n",
       "      <th>Date</th>\n",
       "      <th></th>\n",
       "      <th></th>\n",
       "    </tr>\n",
       "  </thead>\n",
       "  <tbody>\n",
       "    <tr>\n",
       "      <th>2012-01-03</th>\n",
       "      <td>NaN</td>\n",
       "      <td>NaN</td>\n",
       "    </tr>\n",
       "    <tr>\n",
       "      <th>2012-01-04</th>\n",
       "      <td>-0.000449</td>\n",
       "      <td>-0.013264</td>\n",
       "    </tr>\n",
       "    <tr>\n",
       "      <th>2012-01-05</th>\n",
       "      <td>-0.004201</td>\n",
       "      <td>-0.021522</td>\n",
       "    </tr>\n",
       "    <tr>\n",
       "      <th>2012-01-06</th>\n",
       "      <td>-0.002408</td>\n",
       "      <td>-0.007774</td>\n",
       "    </tr>\n",
       "    <tr>\n",
       "      <th>2012-01-09</th>\n",
       "      <td>0.004211</td>\n",
       "      <td>0.012556</td>\n",
       "    </tr>\n",
       "  </tbody>\n",
       "</table>\n",
       "</div>"
      ],
      "text/plain": [
       "                  PG      TSLA\n",
       "Date                          \n",
       "2012-01-03       NaN       NaN\n",
       "2012-01-04 -0.000449 -0.013264\n",
       "2012-01-05 -0.004201 -0.021522\n",
       "2012-01-06 -0.002408 -0.007774\n",
       "2012-01-09  0.004211  0.012556"
      ]
     },
     "execution_count": 8,
     "metadata": {},
     "output_type": "execute_result"
    }
   ],
   "source": [
    "# Let's calculate the log rate of return\n",
    "data_return=np.log(data/data.shift(1))\n",
    "# See the first five rows\n",
    "data_return.head()"
   ]
  },
  {
   "cell_type": "markdown",
   "metadata": {},
   "source": [
    "### To calculate the variance and the standard deviation we have first to find the mean."
   ]
  },
  {
   "cell_type": "code",
   "execution_count": 10,
   "metadata": {},
   "outputs": [
    {
     "data": {
      "text/plain": [
       "0.00037626531986121263"
      ]
     },
     "execution_count": 10,
     "metadata": {},
     "output_type": "execute_result"
    }
   ],
   "source": [
    "# Find the mean of PG\n",
    "data_return['PG'].mean()"
   ]
  },
  {
   "cell_type": "code",
   "execution_count": 11,
   "metadata": {},
   "outputs": [
    {
     "data": {
      "text/plain": [
       "0.09406632996530316"
      ]
     },
     "execution_count": 11,
     "metadata": {},
     "output_type": "execute_result"
    }
   ],
   "source": [
    "# Let's make it annual\n",
    "data_return['PG'].mean()*250"
   ]
  },
  {
   "cell_type": "code",
   "execution_count": 12,
   "metadata": {},
   "outputs": [
    {
     "data": {
      "text/plain": [
       "0.011252554548964053"
      ]
     },
     "execution_count": 12,
     "metadata": {},
     "output_type": "execute_result"
    }
   ],
   "source": [
    "#Let's find the standard deviation\n",
    "data_return['PG'].std()"
   ]
  },
  {
   "cell_type": "code",
   "execution_count": 13,
   "metadata": {},
   "outputs": [
    {
     "data": {
      "text/plain": [
       "0.03394994919252126"
      ]
     },
     "execution_count": 13,
     "metadata": {},
     "output_type": "execute_result"
    }
   ],
   "source": [
    "# Let's make it annual\n",
    "data_return[\"PG\"].std()*250**0.2 #Don't forget the square root on 250"
   ]
  },
  {
   "cell_type": "markdown",
   "metadata": {},
   "source": [
    "### Let's do the same thing in Tesla"
   ]
  },
  {
   "cell_type": "code",
   "execution_count": 16,
   "metadata": {},
   "outputs": [
    {
     "data": {
      "text/plain": [
       "0.0015889990780202118"
      ]
     },
     "execution_count": 16,
     "metadata": {},
     "output_type": "execute_result"
    }
   ],
   "source": [
    "#Calculate the mean\n",
    "data_return['TSLA'].mean()"
   ]
  },
  {
   "cell_type": "code",
   "execution_count": 17,
   "metadata": {},
   "outputs": [
    {
     "data": {
      "text/plain": [
       "0.397249769505053"
      ]
     },
     "execution_count": 17,
     "metadata": {},
     "output_type": "execute_result"
    }
   ],
   "source": [
    "#Make it annual\n",
    "data_return['TSLA'].mean()*250"
   ]
  },
  {
   "cell_type": "code",
   "execution_count": 18,
   "metadata": {},
   "outputs": [
    {
     "data": {
      "text/plain": [
       "0.033802114072277345"
      ]
     },
     "execution_count": 18,
     "metadata": {},
     "output_type": "execute_result"
    }
   ],
   "source": [
    "# Let's calculate the standard deviation\n",
    "data_return['TSLA'].std()"
   ]
  },
  {
   "cell_type": "code",
   "execution_count": 19,
   "metadata": {},
   "outputs": [
    {
     "data": {
      "text/plain": [
       "0.5344583509861293"
      ]
     },
     "execution_count": 19,
     "metadata": {},
     "output_type": "execute_result"
    }
   ],
   "source": [
    "#Let's make it annual\n",
    "data_return['TSLA'].std()*250**0.5"
   ]
  },
  {
   "cell_type": "markdown",
   "metadata": {},
   "source": [
    "It would be easier for us to make some conclusions if we have the two means and the two std, one next to the other. \n",
    "* The first way to achieve this is to print the equations of the annualized means. Let's do it."
   ]
  },
  {
   "cell_type": "code",
   "execution_count": 21,
   "metadata": {},
   "outputs": [
    {
     "name": "stdout",
     "output_type": "stream",
     "text": [
      "0.09406632996530316\n",
      "0.397249769505053\n"
     ]
    }
   ],
   "source": [
    "print(data_return['PG'].mean()*250)\n",
    "print(data_return['TSLA'].mean()*250)"
   ]
  },
  {
   "cell_type": "markdown",
   "metadata": {},
   "source": [
    "* The second way is the way that I recommend. Let's do it!\n"
   ]
  },
  {
   "cell_type": "code",
   "execution_count": 24,
   "metadata": {},
   "outputs": [
    {
     "data": {
      "text/plain": [
       "PG      0.094066\n",
       "TSLA    0.397250\n",
       "dtype: float64"
      ]
     },
     "execution_count": 24,
     "metadata": {},
     "output_type": "execute_result"
    }
   ],
   "source": [
    "data_return.mean()*250"
   ]
  },
  {
   "cell_type": "markdown",
   "metadata": {},
   "source": [
    "### Now let's put the std together."
   ]
  },
  {
   "cell_type": "code",
   "execution_count": 27,
   "metadata": {},
   "outputs": [
    {
     "data": {
      "text/plain": [
       "PG      0.177919\n",
       "TSLA    0.534458\n",
       "dtype: float64"
      ]
     },
     "execution_count": 27,
     "metadata": {},
     "output_type": "execute_result"
    }
   ],
   "source": [
    "data_return.std()*250**0.5"
   ]
  },
  {
   "cell_type": "markdown",
   "metadata": {},
   "source": [
    "We can see that Tesla has a higher standard deviation so is more risky that Procter and Gamble."
   ]
  },
  {
   "cell_type": "markdown",
   "metadata": {},
   "source": [
    "# The relationship between securities\n",
    "\n",
    "It is reasonable to think that common factors influence the prices of shares in a Stock Exchange. The most common factor is the development of the economy.\n",
    "* Favorable macroeconomic conditions facilitate the business of all companies.\n",
    "* In recession times, consumer spending decrease and businesses suffer.\n",
    "Hence, one relationship could be: the state of the economy influences the stock prices\n",
    "\n",
    "However different industries influenced in a different way.\n",
    "\n",
    "* For example in a period of recession car industries suffers more that a supermarket because people can't stop buying food and groceries. But the can postpone buying a new car. \n",
    "\n",
    "So the state of the economy impacts different industries in a different way.\n",
    "\n",
    "## How important is this to an investor?\n",
    "\n",
    "It could be good investor to build a portfolio with stocks of different industries e.g.( 1 share of Facebook, 1 shape of Walmart) because it gives us protection on a recession for example in internet industry(Facebook) or a recession in the retail sector(Walmart). If we buy stocks of different industries we would not be exposed on different industry recessions.\n",
    "\n",
    "### This is a relationship between the prices of companies, will help us to optimize investment porftolio.\n"
   ]
  },
  {
   "cell_type": "markdown",
   "metadata": {},
   "source": [
    "# Measuring the relationship between stocks\n",
    "\n",
    "Let's make an example to help us to understand the relationship between stocks\n",
    "\n",
    "#### House pricing.\n",
    "\n",
    "* Houses size is one of the key variables determining the house prices. Typically larger houses tend to be more expensive.\n",
    "\n",
    "We can understand that we have a relationship between the size of the house and the price. The statistician use correlation to determine the relationship between two variables and takes price between -1 and 1.\n",
    "\n",
    "*The correlation coefficient is:\n",
    "$$ ρ_{xy} = \\frac{(x-\\bar{x})(y-\\bar{y})}{σ_xσ_y}$$\n",
    "\n",
    "and shows the relation between two variables.\n",
    "* The covariance function is:\n",
    "$$ σ_{xy}=\\frac{(x-\\bar{x})(y-\\bar{y})}{n-1}$$\n",
    "\n",
    "Cavariance gives us an idea how the two variables are moving.\n",
    "* If covar> 0 The two variables moving in the some direction\n",
    "* If covar< 0 The two variables moving in the opposite direction\n",
    "* If covar= 0 The two variables are independent\n",
    "\n",
    "In our example x is house size and y is house price"
   ]
  },
  {
   "cell_type": "markdown",
   "metadata": {},
   "source": [
    "# Correlation adjust covariance\n",
    "Interpreting Correlation\n",
    "## Perfect correlation\n",
    "* House price are directly proportional to house size. For every square foot of house the price increases by \\\\$1000(USD).\n",
    "\n",
    "But in reality, several variables have impact on house prices, and perfect correlation is not so common. It is more likely to find imperfect correlation. \n",
    "\n",
    "# In the some way, several variables determine share price:\n",
    "* Industry growth\n",
    "* Revenue growth \n",
    "* Profitability \n",
    "* Regulatory environment\n",
    "\n",
    "The most similar the context in which the two companies operate, the more correlation the will be between their share prices.\n",
    "\n",
    "## No correlation\n",
    "* Variables with 0 correlation are absolute independed from each other.\n",
    "* For example the price of the coffee in Brazil and the price of a house in London. They don't have something in common.\n",
    "\n",
    "## Negative correlation\n",
    "* The two variables move in opposite directions.\n",
    "* Perfect negative correlation: -1\n",
    "* Imperfect negative correlation: -1 and 0\n",
    "\n",
    "For example a business that produces ice cream and a business that produces umbrellas \n",
    "\n",
    "# Let's calculate with Python covariance and correlation coefficient"
   ]
  },
  {
   "cell_type": "code",
   "execution_count": 32,
   "metadata": {},
   "outputs": [
    {
     "data": {
      "text/plain": [
       "0.0001266199838774116"
      ]
     },
     "execution_count": 32,
     "metadata": {},
     "output_type": "execute_result"
    }
   ],
   "source": [
    "# In python we don't have to do mathematical calculation to find variance. We can use the numpy method var()\n",
    "PG_var=data_return['PG'].var()\n",
    "PG_var"
   ]
  },
  {
   "cell_type": "code",
   "execution_count": 33,
   "metadata": {},
   "outputs": [
    {
     "data": {
      "text/plain": [
       "0.0011425829157552503"
      ]
     },
     "execution_count": 33,
     "metadata": {},
     "output_type": "execute_result"
    }
   ],
   "source": [
    "# Calculate the varience of Tesla\n",
    "TS_var=data_return['TSLA'].var()\n",
    "TS_var"
   ]
  },
  {
   "cell_type": "code",
   "execution_count": 34,
   "metadata": {},
   "outputs": [],
   "source": [
    "#Let's annualize them\n",
    "PG_var_a=PG_var*250\n",
    "TS_var_a=TS_var*250"
   ]
  },
  {
   "cell_type": "code",
   "execution_count": 36,
   "metadata": {},
   "outputs": [
    {
     "data": {
      "text/html": [
       "<div>\n",
       "<style scoped>\n",
       "    .dataframe tbody tr th:only-of-type {\n",
       "        vertical-align: middle;\n",
       "    }\n",
       "\n",
       "    .dataframe tbody tr th {\n",
       "        vertical-align: top;\n",
       "    }\n",
       "\n",
       "    .dataframe thead th {\n",
       "        text-align: right;\n",
       "    }\n",
       "</style>\n",
       "<table border=\"1\" class=\"dataframe\">\n",
       "  <thead>\n",
       "    <tr style=\"text-align: right;\">\n",
       "      <th></th>\n",
       "      <th>PG</th>\n",
       "      <th>TSLA</th>\n",
       "    </tr>\n",
       "  </thead>\n",
       "  <tbody>\n",
       "    <tr>\n",
       "      <th>PG</th>\n",
       "      <td>0.000127</td>\n",
       "      <td>0.000054</td>\n",
       "    </tr>\n",
       "    <tr>\n",
       "      <th>TSLA</th>\n",
       "      <td>0.000054</td>\n",
       "      <td>0.001143</td>\n",
       "    </tr>\n",
       "  </tbody>\n",
       "</table>\n",
       "</div>"
      ],
      "text/plain": [
       "            PG      TSLA\n",
       "PG    0.000127  0.000054\n",
       "TSLA  0.000054  0.001143"
      ]
     },
     "execution_count": 36,
     "metadata": {},
     "output_type": "execute_result"
    }
   ],
   "source": [
    "# Let's now use the numpy method cov() to calculate the covariance.\n",
    "cov_matrix=data_return.cov()\n",
    "cov_matrix\n",
    "# We can see that in the diagonally is the variance."
   ]
  },
  {
   "cell_type": "code",
   "execution_count": 37,
   "metadata": {},
   "outputs": [
    {
     "data": {
      "text/html": [
       "<div>\n",
       "<style scoped>\n",
       "    .dataframe tbody tr th:only-of-type {\n",
       "        vertical-align: middle;\n",
       "    }\n",
       "\n",
       "    .dataframe tbody tr th {\n",
       "        vertical-align: top;\n",
       "    }\n",
       "\n",
       "    .dataframe thead th {\n",
       "        text-align: right;\n",
       "    }\n",
       "</style>\n",
       "<table border=\"1\" class=\"dataframe\">\n",
       "  <thead>\n",
       "    <tr style=\"text-align: right;\">\n",
       "      <th></th>\n",
       "      <th>PG</th>\n",
       "      <th>TSLA</th>\n",
       "    </tr>\n",
       "  </thead>\n",
       "  <tbody>\n",
       "    <tr>\n",
       "      <th>PG</th>\n",
       "      <td>0.031655</td>\n",
       "      <td>0.013481</td>\n",
       "    </tr>\n",
       "    <tr>\n",
       "      <th>TSLA</th>\n",
       "      <td>0.013481</td>\n",
       "      <td>0.285646</td>\n",
       "    </tr>\n",
       "  </tbody>\n",
       "</table>\n",
       "</div>"
      ],
      "text/plain": [
       "            PG      TSLA\n",
       "PG    0.031655  0.013481\n",
       "TSLA  0.013481  0.285646"
      ]
     },
     "execution_count": 37,
     "metadata": {},
     "output_type": "execute_result"
    }
   ],
   "source": [
    "#Let's annualize\n",
    "cov_matrix_a=cov_matrix*250\n",
    "cov_matrix_a"
   ]
  },
  {
   "cell_type": "code",
   "execution_count": 40,
   "metadata": {},
   "outputs": [
    {
     "data": {
      "text/html": [
       "<div>\n",
       "<style scoped>\n",
       "    .dataframe tbody tr th:only-of-type {\n",
       "        vertical-align: middle;\n",
       "    }\n",
       "\n",
       "    .dataframe tbody tr th {\n",
       "        vertical-align: top;\n",
       "    }\n",
       "\n",
       "    .dataframe thead th {\n",
       "        text-align: right;\n",
       "    }\n",
       "</style>\n",
       "<table border=\"1\" class=\"dataframe\">\n",
       "  <thead>\n",
       "    <tr style=\"text-align: right;\">\n",
       "      <th></th>\n",
       "      <th>PG</th>\n",
       "      <th>TSLA</th>\n",
       "    </tr>\n",
       "  </thead>\n",
       "  <tbody>\n",
       "    <tr>\n",
       "      <th>PG</th>\n",
       "      <td>1.000000</td>\n",
       "      <td>0.141767</td>\n",
       "    </tr>\n",
       "    <tr>\n",
       "      <th>TSLA</th>\n",
       "      <td>0.141767</td>\n",
       "      <td>1.000000</td>\n",
       "    </tr>\n",
       "  </tbody>\n",
       "</table>\n",
       "</div>"
      ],
      "text/plain": [
       "            PG      TSLA\n",
       "PG    1.000000  0.141767\n",
       "TSLA  0.141767  1.000000"
      ]
     },
     "execution_count": 40,
     "metadata": {},
     "output_type": "execute_result"
    }
   ],
   "source": [
    "# Now let's calculate the correlation with the corr() method\n",
    "corr_matrix=data_return.corr()\n",
    "corr_matrix"
   ]
  },
  {
   "cell_type": "markdown",
   "metadata": {},
   "source": [
    "Along the main diagonal we can see that is exactly one (perfect correlation). It is true because it is the correlation of each stock with itself and makes sense that we have perfect correlation. The other number are the same because is the correlation of the same stocks. It shows that we have weakly correlation between the stock shares. \n",
    "\n",
    "### THIS IS NOT THE CORRELATION BETWEEN THE PRICES OF THE TWO EQUITES\n",
    "* This is the correlation between returns. Correlation between returns and prices are different numbers.\n",
    "* Corr(returns): reflects the dependence between prices at different times and focuses on the returns of our portfolio.\n",
    "* Corr(price): Focuses on stock price level\n",
    "\n",
    "### Finally\n",
    "\n",
    "Don't fail in the trap to annualizing the correlation table because it doesn't contain daily values."
   ]
  },
  {
   "cell_type": "markdown",
   "metadata": {},
   "source": [
    "# Portfolio variance\n",
    "\n",
    "Now we are going to calculate the variance of a portfolio.\n",
    "* For example a portfolio with 1 share of Facebook and 1 share of LinkedIn has different risk of a portfolio with 1 share of Facebook and 1 share Walmart\n",
    "\n",
    "### Let's see some algebra\n",
    "$$ (a +b)^2= a^2 + 2ab + b^2$$\n",
    "\n",
    "### Let's do the same thing with a portfolio contains two stocks\n",
    "\n",
    "Portfolio variance (2 stocks):\n",
    "* The first stock has weight = $w_1$ and the second= $w_2$ and $ w_1 + w_2 =1$\n",
    "* $(w_1σ_1 + w_2σ_2)^2=?$\n",
    "\n",
    "### The portfolio's variance it'll be given by:\n",
    "$(w_1σ_1 + w_2σ_2)^2=w_1^2σ_1^2+2w_1σ_1w_2σ_{2ρ_{12}}+w_2^2σ_2^2$\n",
    "\n",
    "# Calculating a porftolio Risk\n",
    "\n",
    "### Equal weighting scheme:"
   ]
  },
  {
   "cell_type": "code",
   "execution_count": 41,
   "metadata": {},
   "outputs": [],
   "source": [
    "# I will use numpy to create the weights\n",
    "weights=np.array([0.5,0.5])"
   ]
  },
  {
   "cell_type": "markdown",
   "metadata": {},
   "source": [
    "### Portfolio variance:\n",
    "We are going to use the numpy.dot() method because we want to multiply matrices\n",
    "* When we have number $(ab)^2= a^2b^2$\n",
    "* With metrics is like that $ (aB)^2= a^TBa$\n",
    "* To take the transposed matrix we'll use the .T notation after the matrix that we want to transpose."
   ]
  },
  {
   "cell_type": "code",
   "execution_count": 42,
   "metadata": {},
   "outputs": [
    {
     "data": {
      "text/plain": [
       "0.08606549741680392"
      ]
     },
     "execution_count": 42,
     "metadata": {},
     "output_type": "execute_result"
    }
   ],
   "source": [
    "porf_var=np.dot(weights.T,np.dot(data_return.cov()*250,weights))\n",
    "porf_var"
   ]
  },
  {
   "cell_type": "markdown",
   "metadata": {},
   "source": [
    "#### Portfolios volatility"
   ]
  },
  {
   "cell_type": "code",
   "execution_count": 43,
   "metadata": {},
   "outputs": [
    {
     "data": {
      "text/plain": [
       "0.29336921688685047"
      ]
     },
     "execution_count": 43,
     "metadata": {},
     "output_type": "execute_result"
    }
   ],
   "source": [
    "porf_vol=(np.dot(weights.T,np.dot(data_return.cov()*250,weights)))**0.5\n",
    "porf_vol"
   ]
  },
  {
   "cell_type": "code",
   "execution_count": 48,
   "metadata": {},
   "outputs": [
    {
     "name": "stdout",
     "output_type": "stream",
     "text": [
      "29.337000000000003%\n"
     ]
    }
   ],
   "source": [
    "print (str(round(porf_vol,5)*100)+'%')"
   ]
  },
  {
   "cell_type": "markdown",
   "metadata": {},
   "source": [
    "# Portfolio variance\n",
    "is the sum of:\n",
    "* 1) Variance of Securities\n",
    "* 2) Correlation (and Coveriance)\n",
    "\n",
    "### Two types of investment risk\n",
    "1) Un-diversifiable (This component depends on the variance of each individual security. It is also known as systematic)\n",
    "* Systematic Risk cannot be eliminated. It is made of the day to day stock changes and it caused by events that effect every company. Such as:\n",
    "                        * Reccesion of the Economy\n",
    "                        * Low consumer spending\n",
    "                        * wars\n",
    "                        * Force of nature\n",
    "\n",
    "\n",
    "2) Diversifiable (Un-systematic)\n",
    "* Idiosyncratic risk (also known as company specific risk).Driven by company-specific events. Diversifiable risk can be eliminated if we invest in no-correlated assets such as:\n",
    "                        * Automotive\n",
    "                        * Construction\n",
    "                        * Energy\n",
    "                        * Technology\n",
    "For example S&P500 is well diversified and most investments try to have shares same as S&P500.\n",
    "\n",
    "# Calculating Diversifiable and Un-diversifiable Risk of a portfolio"
   ]
  },
  {
   "cell_type": "code",
   "execution_count": 51,
   "metadata": {},
   "outputs": [
    {
     "data": {
      "text/plain": [
       "(0.5, 0.5)"
      ]
     },
     "execution_count": 51,
     "metadata": {},
     "output_type": "execute_result"
    }
   ],
   "source": [
    "# Let's see the weights again\n",
    "weights[0], weights[1]"
   ]
  },
  {
   "cell_type": "markdown",
   "metadata": {},
   "source": [
    "#### Diversifiable Risk\n",
    "\n",
    "$ Diversifiable\\ Risk=\\ portfolio\\ varience\\ -\\ weighted\\ annual\\ variances $"
   ]
  },
  {
   "cell_type": "code",
   "execution_count": 53,
   "metadata": {},
   "outputs": [
    {
     "data": {
      "text/plain": [
       "0.006740316189762549"
      ]
     },
     "execution_count": 53,
     "metadata": {},
     "output_type": "execute_result"
    }
   ],
   "source": [
    "# Calculating Diversifiable Risk\n",
    "df=porf_var - (weights[0]**2*PG_var_a)- (weights[1]**2*TS_var_a)\n",
    "df"
   ]
  },
  {
   "cell_type": "code",
   "execution_count": 60,
   "metadata": {},
   "outputs": [
    {
     "name": "stdout",
     "output_type": "stream",
     "text": [
      "0.674 %\n"
     ]
    }
   ],
   "source": [
    "# let's see the present\n",
    "print(f'{df*100:.3f} %')"
   ]
  },
  {
   "cell_type": "markdown",
   "metadata": {},
   "source": [
    "### Non-Diversifiable Risk:\n",
    "* Two ways to calculate it:"
   ]
  },
  {
   "cell_type": "code",
   "execution_count": 67,
   "metadata": {},
   "outputs": [
    {
     "data": {
      "text/plain": [
       "0.07932518122704137"
      ]
     },
     "execution_count": 67,
     "metadata": {},
     "output_type": "execute_result"
    }
   ],
   "source": [
    "# First way\n",
    "n_dr_1=porf_var-df\n",
    "n_dr_1"
   ]
  },
  {
   "cell_type": "code",
   "execution_count": 68,
   "metadata": {},
   "outputs": [
    {
     "data": {
      "text/plain": [
       "0.07932518122704137"
      ]
     },
     "execution_count": 68,
     "metadata": {},
     "output_type": "execute_result"
    }
   ],
   "source": [
    "# Second way\n",
    "n_dr_2=(weights[0]**2*PG_var_a)+(weights[1]**2*TS_var_a)\n",
    "n_dr_2"
   ]
  },
  {
   "cell_type": "code",
   "execution_count": 66,
   "metadata": {},
   "outputs": [
    {
     "data": {
      "text/plain": [
       "True"
      ]
     },
     "execution_count": 66,
     "metadata": {},
     "output_type": "execute_result"
    }
   ],
   "source": [
    "n_dr_1==n_dr_2"
   ]
  },
  {
   "cell_type": "code",
   "execution_count": null,
   "metadata": {},
   "outputs": [],
   "source": []
  }
 ],
 "metadata": {
  "kernelspec": {
   "display_name": "Python 3",
   "language": "python",
   "name": "python3"
  },
  "language_info": {
   "codemirror_mode": {
    "name": "ipython",
    "version": 3
   },
   "file_extension": ".py",
   "mimetype": "text/x-python",
   "name": "python",
   "nbconvert_exporter": "python",
   "pygments_lexer": "ipython3",
   "version": "3.6.10"
  }
 },
 "nbformat": 4,
 "nbformat_minor": 4
}
