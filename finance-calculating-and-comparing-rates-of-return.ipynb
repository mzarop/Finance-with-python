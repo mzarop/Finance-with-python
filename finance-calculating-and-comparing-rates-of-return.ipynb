{
 "cells": [
  {
   "cell_type": "markdown",
   "metadata": {},
   "source": [
    "# Begging theory\n",
    "\n",
    "# Calculating return of a single investment\n",
    "    \n",
    "Apple's equity\n",
    "* Bought=1 share                           \n",
    "* Buying Price= \\\\$105(USD)\n",
    "* End of year price= \\\\$116(USD)\n",
    "\n",
    "To understand if this investment was worthed or not we have to compare it with other stocks's prices that we didn't buy.\n",
    "\n",
    "We have to calculate a precentage rate of return of the investment.\n",
    "\n",
    "# Simple rate of return = (ending price-begging price)/begging price\n",
    "\n",
    "$$SRT = \\frac{116-105}{105}=10.5%$$\n",
    "\n",
    "* If we have a dividend of \\\\$2 then we have to do $SRT=\\frac{116+2-105}{105}=12.5%$\n",
    "\n",
    "# Logarithmic rate of return = $log\\frac{Ending Price}{Begging Price}= log(Ending Price) - log(Begging Price)$\n",
    "\n",
    "* Simple rate of return is suggested to be used when we dealing with multiple assets over the same TimeFrame\n",
    "* Logarithmic rate of return when we make calculations about a single asset over time\n",
    "\n",
    "# TimeFrame\n",
    "\n",
    "Investments with different holdings period should not be compared\n",
    "\n",
    "We will deal with daily,monthly, quartely and yearly(annualy) holding times.\n",
    "\n",
    "To convert daily,monthly and quartely in annualy we will use:\n",
    "* $annual return = (daily return +1)^{365}100$\n",
    "            "
   ]
  },
  {
   "cell_type": "markdown",
   "metadata": {},
   "source": [
    "## Simple Rate of Return"
   ]
  },
  {
   "cell_type": "code",
   "execution_count": 1,
   "metadata": {},
   "outputs": [],
   "source": [
    "# Import the liblaries \n",
    "import pandas as pd\n",
    "import numpy as np\n",
    "import yfinance as yf\n",
    "import matplotlib.pyplot as plt\n"
   ]
  },
  {
   "cell_type": "code",
   "execution_count": 109,
   "metadata": {},
   "outputs": [
    {
     "name": "stdout",
     "output_type": "stream",
     "text": [
      "[*********************100%***********************]  1 of 1 completed\n"
     ]
    },
    {
     "data": {
      "text/html": [
       "<div>\n",
       "<style scoped>\n",
       "    .dataframe tbody tr th:only-of-type {\n",
       "        vertical-align: middle;\n",
       "    }\n",
       "\n",
       "    .dataframe tbody tr th {\n",
       "        vertical-align: top;\n",
       "    }\n",
       "\n",
       "    .dataframe thead th {\n",
       "        text-align: right;\n",
       "    }\n",
       "</style>\n",
       "<table border=\"1\" class=\"dataframe\">\n",
       "  <thead>\n",
       "    <tr style=\"text-align: right;\">\n",
       "      <th></th>\n",
       "      <th>Open</th>\n",
       "      <th>High</th>\n",
       "      <th>Low</th>\n",
       "      <th>Close</th>\n",
       "      <th>Adj Close</th>\n",
       "      <th>Volume</th>\n",
       "    </tr>\n",
       "    <tr>\n",
       "      <th>Date</th>\n",
       "      <th></th>\n",
       "      <th></th>\n",
       "      <th></th>\n",
       "      <th></th>\n",
       "      <th></th>\n",
       "      <th></th>\n",
       "    </tr>\n",
       "  </thead>\n",
       "  <tbody>\n",
       "    <tr>\n",
       "      <th>1995-01-03</th>\n",
       "      <td>15.46875</td>\n",
       "      <td>15.62500</td>\n",
       "      <td>15.43750</td>\n",
       "      <td>15.59375</td>\n",
       "      <td>6.320252</td>\n",
       "      <td>3318400</td>\n",
       "    </tr>\n",
       "    <tr>\n",
       "      <th>1995-01-04</th>\n",
       "      <td>15.53125</td>\n",
       "      <td>15.65625</td>\n",
       "      <td>15.31250</td>\n",
       "      <td>15.46875</td>\n",
       "      <td>6.269589</td>\n",
       "      <td>2218800</td>\n",
       "    </tr>\n",
       "    <tr>\n",
       "      <th>1995-01-05</th>\n",
       "      <td>15.37500</td>\n",
       "      <td>15.43750</td>\n",
       "      <td>15.21875</td>\n",
       "      <td>15.25000</td>\n",
       "      <td>6.180927</td>\n",
       "      <td>2319600</td>\n",
       "    </tr>\n",
       "    <tr>\n",
       "      <th>1995-01-06</th>\n",
       "      <td>15.15625</td>\n",
       "      <td>15.40625</td>\n",
       "      <td>15.15625</td>\n",
       "      <td>15.28125</td>\n",
       "      <td>6.193593</td>\n",
       "      <td>3438000</td>\n",
       "    </tr>\n",
       "    <tr>\n",
       "      <th>1995-01-09</th>\n",
       "      <td>15.34375</td>\n",
       "      <td>15.40625</td>\n",
       "      <td>15.18750</td>\n",
       "      <td>15.21875</td>\n",
       "      <td>6.168259</td>\n",
       "      <td>1795200</td>\n",
       "    </tr>\n",
       "  </tbody>\n",
       "</table>\n",
       "</div>"
      ],
      "text/plain": [
       "                Open      High       Low     Close  Adj Close   Volume\n",
       "Date                                                                  \n",
       "1995-01-03  15.46875  15.62500  15.43750  15.59375   6.320252  3318400\n",
       "1995-01-04  15.53125  15.65625  15.31250  15.46875   6.269589  2218800\n",
       "1995-01-05  15.37500  15.43750  15.21875  15.25000   6.180927  2319600\n",
       "1995-01-06  15.15625  15.40625  15.15625  15.28125   6.193593  3438000\n",
       "1995-01-09  15.34375  15.40625  15.18750  15.21875   6.168259  1795200"
      ]
     },
     "execution_count": 109,
     "metadata": {},
     "output_type": "execute_result"
    }
   ],
   "source": [
    "# I will load the data for the stock price Procter and Gamble\n",
    "PG=yf.download('PG',start='1995-1-1')\n",
    "# I will see the first 5 rows\n",
    "PG.head()"
   ]
  },
  {
   "cell_type": "code",
   "execution_count": 110,
   "metadata": {},
   "outputs": [
    {
     "data": {
      "text/html": [
       "<div>\n",
       "<style scoped>\n",
       "    .dataframe tbody tr th:only-of-type {\n",
       "        vertical-align: middle;\n",
       "    }\n",
       "\n",
       "    .dataframe tbody tr th {\n",
       "        vertical-align: top;\n",
       "    }\n",
       "\n",
       "    .dataframe thead th {\n",
       "        text-align: right;\n",
       "    }\n",
       "</style>\n",
       "<table border=\"1\" class=\"dataframe\">\n",
       "  <thead>\n",
       "    <tr style=\"text-align: right;\">\n",
       "      <th></th>\n",
       "      <th>Open</th>\n",
       "      <th>High</th>\n",
       "      <th>Low</th>\n",
       "      <th>Close</th>\n",
       "      <th>Adj Close</th>\n",
       "      <th>Volume</th>\n",
       "    </tr>\n",
       "    <tr>\n",
       "      <th>Date</th>\n",
       "      <th></th>\n",
       "      <th></th>\n",
       "      <th></th>\n",
       "      <th></th>\n",
       "      <th></th>\n",
       "      <th></th>\n",
       "    </tr>\n",
       "  </thead>\n",
       "  <tbody>\n",
       "    <tr>\n",
       "      <th>2020-05-04</th>\n",
       "      <td>117.089996</td>\n",
       "      <td>117.199997</td>\n",
       "      <td>115.000000</td>\n",
       "      <td>115.769997</td>\n",
       "      <td>115.769997</td>\n",
       "      <td>5636000</td>\n",
       "    </tr>\n",
       "    <tr>\n",
       "      <th>2020-05-05</th>\n",
       "      <td>115.800003</td>\n",
       "      <td>117.260002</td>\n",
       "      <td>115.209999</td>\n",
       "      <td>116.010002</td>\n",
       "      <td>116.010002</td>\n",
       "      <td>5425200</td>\n",
       "    </tr>\n",
       "    <tr>\n",
       "      <th>2020-05-06</th>\n",
       "      <td>115.540001</td>\n",
       "      <td>116.139999</td>\n",
       "      <td>112.889999</td>\n",
       "      <td>113.099998</td>\n",
       "      <td>113.099998</td>\n",
       "      <td>7892200</td>\n",
       "    </tr>\n",
       "    <tr>\n",
       "      <th>2020-05-07</th>\n",
       "      <td>114.059998</td>\n",
       "      <td>114.139999</td>\n",
       "      <td>111.820000</td>\n",
       "      <td>112.169998</td>\n",
       "      <td>112.169998</td>\n",
       "      <td>8762800</td>\n",
       "    </tr>\n",
       "    <tr>\n",
       "      <th>2020-05-08</th>\n",
       "      <td>113.519997</td>\n",
       "      <td>116.300003</td>\n",
       "      <td>113.389999</td>\n",
       "      <td>115.949997</td>\n",
       "      <td>115.949997</td>\n",
       "      <td>9279900</td>\n",
       "    </tr>\n",
       "  </tbody>\n",
       "</table>\n",
       "</div>"
      ],
      "text/plain": [
       "                  Open        High         Low       Close   Adj Close  \\\n",
       "Date                                                                     \n",
       "2020-05-04  117.089996  117.199997  115.000000  115.769997  115.769997   \n",
       "2020-05-05  115.800003  117.260002  115.209999  116.010002  116.010002   \n",
       "2020-05-06  115.540001  116.139999  112.889999  113.099998  113.099998   \n",
       "2020-05-07  114.059998  114.139999  111.820000  112.169998  112.169998   \n",
       "2020-05-08  113.519997  116.300003  113.389999  115.949997  115.949997   \n",
       "\n",
       "             Volume  \n",
       "Date                 \n",
       "2020-05-04  5636000  \n",
       "2020-05-05  5425200  \n",
       "2020-05-06  7892200  \n",
       "2020-05-07  8762800  \n",
       "2020-05-08  9279900  "
      ]
     },
     "execution_count": 110,
     "metadata": {},
     "output_type": "execute_result"
    }
   ],
   "source": [
    "# I will see the last 5 rows\n",
    "PG.tail()"
   ]
  },
  {
   "cell_type": "markdown",
   "metadata": {},
   "source": [
    "We've said that the simple rate of return calculate like (P1-P0)/P0\n",
    "We will do some calculation and we will form it like (P1/P0)-1"
   ]
  },
  {
   "cell_type": "code",
   "execution_count": 3,
   "metadata": {},
   "outputs": [
    {
     "data": {
      "text/html": [
       "<div>\n",
       "<style scoped>\n",
       "    .dataframe tbody tr th:only-of-type {\n",
       "        vertical-align: middle;\n",
       "    }\n",
       "\n",
       "    .dataframe tbody tr th {\n",
       "        vertical-align: top;\n",
       "    }\n",
       "\n",
       "    .dataframe thead th {\n",
       "        text-align: right;\n",
       "    }\n",
       "</style>\n",
       "<table border=\"1\" class=\"dataframe\">\n",
       "  <thead>\n",
       "    <tr style=\"text-align: right;\">\n",
       "      <th></th>\n",
       "      <th>Open</th>\n",
       "      <th>High</th>\n",
       "      <th>Low</th>\n",
       "      <th>Close</th>\n",
       "      <th>Adj Close</th>\n",
       "      <th>Volume</th>\n",
       "    </tr>\n",
       "    <tr>\n",
       "      <th>Date</th>\n",
       "      <th></th>\n",
       "      <th></th>\n",
       "      <th></th>\n",
       "      <th></th>\n",
       "      <th></th>\n",
       "      <th></th>\n",
       "    </tr>\n",
       "  </thead>\n",
       "  <tbody>\n",
       "    <tr>\n",
       "      <th>1995-01-03</th>\n",
       "      <td>15.46875</td>\n",
       "      <td>15.62500</td>\n",
       "      <td>15.43750</td>\n",
       "      <td>15.59375</td>\n",
       "      <td>6.320252</td>\n",
       "      <td>3318400</td>\n",
       "    </tr>\n",
       "    <tr>\n",
       "      <th>1995-01-04</th>\n",
       "      <td>15.53125</td>\n",
       "      <td>15.65625</td>\n",
       "      <td>15.31250</td>\n",
       "      <td>15.46875</td>\n",
       "      <td>6.269589</td>\n",
       "      <td>2218800</td>\n",
       "    </tr>\n",
       "    <tr>\n",
       "      <th>1995-01-05</th>\n",
       "      <td>15.37500</td>\n",
       "      <td>15.43750</td>\n",
       "      <td>15.21875</td>\n",
       "      <td>15.25000</td>\n",
       "      <td>6.180927</td>\n",
       "      <td>2319600</td>\n",
       "    </tr>\n",
       "    <tr>\n",
       "      <th>1995-01-06</th>\n",
       "      <td>15.15625</td>\n",
       "      <td>15.40625</td>\n",
       "      <td>15.15625</td>\n",
       "      <td>15.28125</td>\n",
       "      <td>6.193593</td>\n",
       "      <td>3438000</td>\n",
       "    </tr>\n",
       "    <tr>\n",
       "      <th>1995-01-09</th>\n",
       "      <td>15.34375</td>\n",
       "      <td>15.40625</td>\n",
       "      <td>15.18750</td>\n",
       "      <td>15.21875</td>\n",
       "      <td>6.168259</td>\n",
       "      <td>1795200</td>\n",
       "    </tr>\n",
       "  </tbody>\n",
       "</table>\n",
       "</div>"
      ],
      "text/plain": [
       "                Open      High       Low     Close  Adj Close   Volume\n",
       "Date                                                                  \n",
       "1995-01-03  15.46875  15.62500  15.43750  15.59375   6.320252  3318400\n",
       "1995-01-04  15.53125  15.65625  15.31250  15.46875   6.269589  2218800\n",
       "1995-01-05  15.37500  15.43750  15.21875  15.25000   6.180927  2319600\n",
       "1995-01-06  15.15625  15.40625  15.15625  15.28125   6.193593  3438000\n",
       "1995-01-09  15.34375  15.40625  15.18750  15.21875   6.168259  1795200"
      ]
     },
     "execution_count": 3,
     "metadata": {},
     "output_type": "execute_result"
    }
   ],
   "source": [
    "# Because I don't want to import every time the data from yahoo finance I wil save them\n",
    "PG.to_csv('PG-stock-price.csv')\n",
    "PG=pd.read_csv('PG-stock-price.csv',index_col=0)\n",
    "PG.head()"
   ]
  },
  {
   "cell_type": "code",
   "execution_count": 4,
   "metadata": {},
   "outputs": [
    {
     "name": "stdout",
     "output_type": "stream",
     "text": [
      "Date\n",
      "1995-01-03         NaN\n",
      "1995-01-04   -0.008016\n",
      "1995-01-05   -0.014142\n",
      "1995-01-06    0.002049\n",
      "1995-01-09   -0.004090\n",
      "                ...   \n",
      "2020-05-04   -0.008988\n",
      "2020-05-05    0.002073\n",
      "2020-05-06   -0.025084\n",
      "2020-05-07   -0.008223\n",
      "2020-05-08    0.033699\n",
      "Name: simple_return, Length: 6383, dtype: float64\n"
     ]
    }
   ],
   "source": [
    "# I will calculate the Simple rate of return of the Close price\n",
    "PG['simple_return']= (PG['Adj Close']/PG['Adj Close'].shift(1))-1 # The shift method will help us to make the divition P1/P0\n",
    "print (PG['simple_return'])"
   ]
  },
  {
   "cell_type": "code",
   "execution_count": 5,
   "metadata": {},
   "outputs": [],
   "source": [
    "# Because we'll like to calculate the SRR for multiple tickers I will function the previous cell\n",
    "def simple_return(data,Adj_Close=\"Adj Close\",new_column='simple_return'):\n",
    "    '''\n",
    "    This function create a new column with the simple rate of return\n",
    "    * Adj_Close takes a string with the name of Adj Close of the data\n",
    "    * new_column takes a string with the new name column\n",
    "    '''\n",
    "    data[new_column]= (data[Adj_Close]/data[Adj_Close].shift(1))-1\n",
    "    return data"
   ]
  },
  {
   "cell_type": "markdown",
   "metadata": {},
   "source": [
    "## Let's plot the simple return"
   ]
  },
  {
   "cell_type": "code",
   "execution_count": 6,
   "metadata": {},
   "outputs": [
    {
     "data": {
      "image/png": "[encoded data removed]",
      "text/plain": [
       "<Figure size 576x360 with 1 Axes>"
      ]
     },
     "metadata": {
      "needs_background": "light"
     },
     "output_type": "display_data"
    }
   ],
   "source": [
    "PG['simple_return'].plot(figsize=(8,5))\n",
    "plt.show()"
   ]
  },
  {
   "cell_type": "markdown",
   "metadata": {},
   "source": [
    "## Average rate of return\n",
    "\n",
    "Because the buyers want to hold the stock for a long term they focus on the average of return. Hence we have to calculate the average rate of return"
   ]
  },
  {
   "cell_type": "code",
   "execution_count": 7,
   "metadata": {},
   "outputs": [
    {
     "data": {
      "text/plain": [
       "0.0005598827348329495"
      ]
     },
     "execution_count": 7,
     "metadata": {},
     "output_type": "execute_result"
    }
   ],
   "source": [
    "# Average rate of return\n",
    "aver_returns_d=PG['simple_return'].mean()\n",
    "aver_returns_d"
   ]
  },
  {
   "cell_type": "markdown",
   "metadata": {},
   "source": [
    "## Annual average return\n",
    "\n",
    "Because the number of average return per day doesn't say something we have to calculate the annual average returns. To do that we have to multiply by 250. 250 because the stock market is closed at weekends and day offs."
   ]
  },
  {
   "cell_type": "code",
   "execution_count": 8,
   "metadata": {},
   "outputs": [
    {
     "data": {
      "text/plain": [
       "0.13997068370823737"
      ]
     },
     "execution_count": 8,
     "metadata": {},
     "output_type": "execute_result"
    }
   ],
   "source": [
    "aver_returns_a=PG['simple_return'].mean()*250\n",
    "aver_returns_a"
   ]
  },
  {
   "cell_type": "code",
   "execution_count": 9,
   "metadata": {},
   "outputs": [
    {
     "name": "stdout",
     "output_type": "stream",
     "text": [
      "The averege annual return is: 13.997 %\n"
     ]
    }
   ],
   "source": [
    "# I will prind the average with precendance\n",
    "print (f'The averege annual return is: {aver_returns_a*100:.3f} %' )"
   ]
  },
  {
   "cell_type": "markdown",
   "metadata": {},
   "source": [
    "## Log return\n",
    "$$log=\\frac{Pt}{Pt-1}$$"
   ]
  },
  {
   "cell_type": "code",
   "execution_count": 10,
   "metadata": {},
   "outputs": [
    {
     "data": {
      "text/html": [
       "<div>\n",
       "<style scoped>\n",
       "    .dataframe tbody tr th:only-of-type {\n",
       "        vertical-align: middle;\n",
       "    }\n",
       "\n",
       "    .dataframe tbody tr th {\n",
       "        vertical-align: top;\n",
       "    }\n",
       "\n",
       "    .dataframe thead th {\n",
       "        text-align: right;\n",
       "    }\n",
       "</style>\n",
       "<table border=\"1\" class=\"dataframe\">\n",
       "  <thead>\n",
       "    <tr style=\"text-align: right;\">\n",
       "      <th></th>\n",
       "      <th>Open</th>\n",
       "      <th>High</th>\n",
       "      <th>Low</th>\n",
       "      <th>Close</th>\n",
       "      <th>Adj Close</th>\n",
       "      <th>Volume</th>\n",
       "      <th>simple_return</th>\n",
       "    </tr>\n",
       "    <tr>\n",
       "      <th>Date</th>\n",
       "      <th></th>\n",
       "      <th></th>\n",
       "      <th></th>\n",
       "      <th></th>\n",
       "      <th></th>\n",
       "      <th></th>\n",
       "      <th></th>\n",
       "    </tr>\n",
       "  </thead>\n",
       "  <tbody>\n",
       "    <tr>\n",
       "      <th>1995-01-03</th>\n",
       "      <td>15.46875</td>\n",
       "      <td>15.62500</td>\n",
       "      <td>15.43750</td>\n",
       "      <td>15.59375</td>\n",
       "      <td>6.320252</td>\n",
       "      <td>3318400</td>\n",
       "      <td>NaN</td>\n",
       "    </tr>\n",
       "    <tr>\n",
       "      <th>1995-01-04</th>\n",
       "      <td>15.53125</td>\n",
       "      <td>15.65625</td>\n",
       "      <td>15.31250</td>\n",
       "      <td>15.46875</td>\n",
       "      <td>6.269589</td>\n",
       "      <td>2218800</td>\n",
       "      <td>-0.008016</td>\n",
       "    </tr>\n",
       "    <tr>\n",
       "      <th>1995-01-05</th>\n",
       "      <td>15.37500</td>\n",
       "      <td>15.43750</td>\n",
       "      <td>15.21875</td>\n",
       "      <td>15.25000</td>\n",
       "      <td>6.180927</td>\n",
       "      <td>2319600</td>\n",
       "      <td>-0.014142</td>\n",
       "    </tr>\n",
       "    <tr>\n",
       "      <th>1995-01-06</th>\n",
       "      <td>15.15625</td>\n",
       "      <td>15.40625</td>\n",
       "      <td>15.15625</td>\n",
       "      <td>15.28125</td>\n",
       "      <td>6.193593</td>\n",
       "      <td>3438000</td>\n",
       "      <td>0.002049</td>\n",
       "    </tr>\n",
       "    <tr>\n",
       "      <th>1995-01-09</th>\n",
       "      <td>15.34375</td>\n",
       "      <td>15.40625</td>\n",
       "      <td>15.18750</td>\n",
       "      <td>15.21875</td>\n",
       "      <td>6.168259</td>\n",
       "      <td>1795200</td>\n",
       "      <td>-0.004090</td>\n",
       "    </tr>\n",
       "  </tbody>\n",
       "</table>\n",
       "</div>"
      ],
      "text/plain": [
       "                Open      High       Low     Close  Adj Close   Volume  \\\n",
       "Date                                                                     \n",
       "1995-01-03  15.46875  15.62500  15.43750  15.59375   6.320252  3318400   \n",
       "1995-01-04  15.53125  15.65625  15.31250  15.46875   6.269589  2218800   \n",
       "1995-01-05  15.37500  15.43750  15.21875  15.25000   6.180927  2319600   \n",
       "1995-01-06  15.15625  15.40625  15.15625  15.28125   6.193593  3438000   \n",
       "1995-01-09  15.34375  15.40625  15.18750  15.21875   6.168259  1795200   \n",
       "\n",
       "            simple_return  \n",
       "Date                       \n",
       "1995-01-03            NaN  \n",
       "1995-01-04      -0.008016  \n",
       "1995-01-05      -0.014142  \n",
       "1995-01-06       0.002049  \n",
       "1995-01-09      -0.004090  "
      ]
     },
     "execution_count": 10,
     "metadata": {},
     "output_type": "execute_result"
    }
   ],
   "source": [
    "# Let's see the first five rows of the data again\n",
    "PG.head()"
   ]
  },
  {
   "cell_type": "code",
   "execution_count": 11,
   "metadata": {},
   "outputs": [
    {
     "data": {
      "text/plain": [
       "Date\n",
       "1995-01-03         NaN\n",
       "1995-01-04   -0.008048\n",
       "1995-01-05   -0.014243\n",
       "1995-01-06    0.002047\n",
       "1995-01-09   -0.004099\n",
       "                ...   \n",
       "2020-05-04   -0.009029\n",
       "2020-05-05    0.002071\n",
       "2020-05-06   -0.025404\n",
       "2020-05-07   -0.008257\n",
       "2020-05-08    0.033143\n",
       "Name: log_returns, Length: 6383, dtype: float64"
      ]
     },
     "execution_count": 11,
     "metadata": {},
     "output_type": "execute_result"
    }
   ],
   "source": [
    "# Let's calculate the log returns using numpy log\n",
    "PG['log_returns']=np.log(PG['Adj Close']/PG['Adj Close'].shift(1))\n",
    "#Print the new column\n",
    "PG['log_returns']"
   ]
  },
  {
   "cell_type": "code",
   "execution_count": 12,
   "metadata": {},
   "outputs": [],
   "source": [
    "# Because we'll like to calculate the LRR for multiple tickers I will function the previous cell\n",
    "def log_return(data,Adj_Close=\"Adj Close\",new_column='simple_return'):\n",
    "    '''\n",
    "    This function create a new column with the simple rate of return\n",
    "    * Adj_Close takes a string with the name of Adj Close of the data\n",
    "    * new_column takes a string with the new name column\n",
    "    '''\n",
    "    data[new_column]= np.log(PG[Adj_Close]/PG[Adj_Close].shift(1))\n",
    "    return data"
   ]
  },
  {
   "cell_type": "code",
   "execution_count": 13,
   "metadata": {},
   "outputs": [
    {
     "data": {
      "image/png": "[encoded data removed]",
      "text/plain": [
       "<Figure size 576x360 with 1 Axes>"
      ]
     },
     "metadata": {
      "needs_background": "light"
     },
     "output_type": "display_data"
    }
   ],
   "source": [
    "# Let's plot hte data\n",
    "PG['log_returns'].plot(figsize=(8,5))\n",
    "plt.show()"
   ]
  },
  {
   "cell_type": "code",
   "execution_count": 14,
   "metadata": {},
   "outputs": [
    {
     "data": {
      "text/plain": [
       "0.00045587589561700304"
      ]
     },
     "execution_count": 14,
     "metadata": {},
     "output_type": "execute_result"
    }
   ],
   "source": [
    "# Calculate the average log return\n",
    "aver_log_d=PG['log_returns'].mean()\n",
    "aver_log_d"
   ]
  },
  {
   "cell_type": "code",
   "execution_count": 15,
   "metadata": {},
   "outputs": [
    {
     "data": {
      "text/plain": [
       "0.11396897390425076"
      ]
     },
     "execution_count": 15,
     "metadata": {},
     "output_type": "execute_result"
    }
   ],
   "source": [
    "# Let's calculate the average log annual return\n",
    "aver_log_a=PG['log_returns'].mean()*250\n",
    "aver_log_a"
   ]
  },
  {
   "cell_type": "code",
   "execution_count": 16,
   "metadata": {},
   "outputs": [
    {
     "name": "stdout",
     "output_type": "stream",
     "text": [
      "The averege annual log return is: 11.397 %\n"
     ]
    }
   ],
   "source": [
    "#print the precentance\n",
    "print(f'The averege annual log return is: {aver_log_a*100:.3f} %' )"
   ]
  },
  {
   "cell_type": "markdown",
   "metadata": {},
   "source": [
    "### Calculating return of a multiple investment\n",
    "Calculate rate of returns for a portfolio of stocks\n",
    "\n",
    "Let's calculate the average return of the prortfolio with the tickers:\n",
    "* Apple\n",
    "* IBM\n",
    "* GE\n",
    "* FORD\n",
    "\n",
    "We would like to calcualte the historical returns of the portfolio. And this will tell as the expected rate of return of this portofolio in the future.\n",
    "To calculate it we have to multiply the simple rate of returns of each stock with the weights they have of the overall portofolio.\n",
    "\n",
    "* $$Historical\\ rate\\ of\\ return\\ =\\ rate\\ of\\ return\\ of\\ a\\ security\\ *\\ weight\\ of\\ portfolio$$\n",
    "\n",
    "E.g.\n",
    "If we have a equal weighted portfolio each of the 4 stocks obtain 25% of the overall portfolio. Hence, we have to multiply each rate of return with the weights and find the historical weight of return.\n",
    "\n",
    "### Let's calculate the return for a portfolio of securities"
   ]
  },
  {
   "cell_type": "code",
   "execution_count": 53,
   "metadata": {},
   "outputs": [
    {
     "name": "stdout",
     "output_type": "stream",
     "text": [
      "[*********************100%***********************]  1 of 1 completed\n",
      "[*********************100%***********************]  1 of 1 completed\n",
      "[*********************100%***********************]  1 of 1 completed\n",
      "[*********************100%***********************]  1 of 1 completed\n"
     ]
    },
    {
     "data": {
      "text/html": [
       "<div>\n",
       "<style scoped>\n",
       "    .dataframe tbody tr th:only-of-type {\n",
       "        vertical-align: middle;\n",
       "    }\n",
       "\n",
       "    .dataframe tbody tr th {\n",
       "        vertical-align: top;\n",
       "    }\n",
       "\n",
       "    .dataframe thead th {\n",
       "        text-align: right;\n",
       "    }\n",
       "</style>\n",
       "<table border=\"1\" class=\"dataframe\">\n",
       "  <thead>\n",
       "    <tr style=\"text-align: right;\">\n",
       "      <th></th>\n",
       "      <th>PG</th>\n",
       "      <th>MSFT</th>\n",
       "      <th>F</th>\n",
       "      <th>GE</th>\n",
       "    </tr>\n",
       "    <tr>\n",
       "      <th>Date</th>\n",
       "      <th></th>\n",
       "      <th></th>\n",
       "      <th></th>\n",
       "      <th></th>\n",
       "    </tr>\n",
       "  </thead>\n",
       "  <tbody>\n",
       "    <tr>\n",
       "      <th>1995-01-03</th>\n",
       "      <td>6.320252</td>\n",
       "      <td>2.413537</td>\n",
       "      <td>4.186858</td>\n",
       "      <td>2.729230</td>\n",
       "    </tr>\n",
       "    <tr>\n",
       "      <th>1995-01-04</th>\n",
       "      <td>6.269589</td>\n",
       "      <td>2.431082</td>\n",
       "      <td>4.299507</td>\n",
       "      <td>2.729230</td>\n",
       "    </tr>\n",
       "    <tr>\n",
       "      <th>1995-01-05</th>\n",
       "      <td>6.180927</td>\n",
       "      <td>2.390982</td>\n",
       "      <td>4.261956</td>\n",
       "      <td>2.735919</td>\n",
       "    </tr>\n",
       "    <tr>\n",
       "      <th>1995-01-06</th>\n",
       "      <td>6.193593</td>\n",
       "      <td>2.431082</td>\n",
       "      <td>4.261956</td>\n",
       "      <td>2.722540</td>\n",
       "    </tr>\n",
       "    <tr>\n",
       "      <th>1995-01-09</th>\n",
       "      <td>6.168259</td>\n",
       "      <td>2.416045</td>\n",
       "      <td>4.337057</td>\n",
       "      <td>2.695783</td>\n",
       "    </tr>\n",
       "  </tbody>\n",
       "</table>\n",
       "</div>"
      ],
      "text/plain": [
       "                  PG      MSFT         F        GE\n",
       "Date                                              \n",
       "1995-01-03  6.320252  2.413537  4.186858  2.729230\n",
       "1995-01-04  6.269589  2.431082  4.299507  2.729230\n",
       "1995-01-05  6.180927  2.390982  4.261956  2.735919\n",
       "1995-01-06  6.193593  2.431082  4.261956  2.722540\n",
       "1995-01-09  6.168259  2.416045  4.337057  2.695783"
      ]
     },
     "execution_count": 53,
     "metadata": {},
     "output_type": "execute_result"
    }
   ],
   "source": [
    "# Let's create a list with the tickers of the stocks\n",
    "tickers= ['PG','MSFT','F','GE']\n",
    "#Let's load the data\n",
    "portfolio=pd.DataFrame()\n",
    "for i in tickers:\n",
    "    portfolio[i]=yf.download(i,start='1995-1-1')['Adj Close'] # We need only the Adj Close price\n",
    "portfolio.head()"
   ]
  },
  {
   "cell_type": "code",
   "execution_count": 54,
   "metadata": {},
   "outputs": [
    {
     "data": {
      "text/html": [
       "<div>\n",
       "<style scoped>\n",
       "    .dataframe tbody tr th:only-of-type {\n",
       "        vertical-align: middle;\n",
       "    }\n",
       "\n",
       "    .dataframe tbody tr th {\n",
       "        vertical-align: top;\n",
       "    }\n",
       "\n",
       "    .dataframe thead th {\n",
       "        text-align: right;\n",
       "    }\n",
       "</style>\n",
       "<table border=\"1\" class=\"dataframe\">\n",
       "  <thead>\n",
       "    <tr style=\"text-align: right;\">\n",
       "      <th></th>\n",
       "      <th>PG</th>\n",
       "      <th>MSFT</th>\n",
       "      <th>F</th>\n",
       "      <th>GE</th>\n",
       "    </tr>\n",
       "    <tr>\n",
       "      <th>Date</th>\n",
       "      <th></th>\n",
       "      <th></th>\n",
       "      <th></th>\n",
       "      <th></th>\n",
       "    </tr>\n",
       "  </thead>\n",
       "  <tbody>\n",
       "    <tr>\n",
       "      <th>1995-01-03</th>\n",
       "      <td>6.320252</td>\n",
       "      <td>2.413537</td>\n",
       "      <td>4.186858</td>\n",
       "      <td>2.729230</td>\n",
       "    </tr>\n",
       "    <tr>\n",
       "      <th>1995-01-04</th>\n",
       "      <td>6.269589</td>\n",
       "      <td>2.431082</td>\n",
       "      <td>4.299507</td>\n",
       "      <td>2.729230</td>\n",
       "    </tr>\n",
       "    <tr>\n",
       "      <th>1995-01-05</th>\n",
       "      <td>6.180927</td>\n",
       "      <td>2.390982</td>\n",
       "      <td>4.261956</td>\n",
       "      <td>2.735919</td>\n",
       "    </tr>\n",
       "    <tr>\n",
       "      <th>1995-01-06</th>\n",
       "      <td>6.193593</td>\n",
       "      <td>2.431082</td>\n",
       "      <td>4.261956</td>\n",
       "      <td>2.722540</td>\n",
       "    </tr>\n",
       "    <tr>\n",
       "      <th>1995-01-09</th>\n",
       "      <td>6.168259</td>\n",
       "      <td>2.416045</td>\n",
       "      <td>4.337057</td>\n",
       "      <td>2.695783</td>\n",
       "    </tr>\n",
       "  </tbody>\n",
       "</table>\n",
       "</div>"
      ],
      "text/plain": [
       "                  PG      MSFT         F        GE\n",
       "Date                                              \n",
       "1995-01-03  6.320252  2.413537  4.186858  2.729230\n",
       "1995-01-04  6.269589  2.431082  4.299507  2.729230\n",
       "1995-01-05  6.180927  2.390982  4.261956  2.735919\n",
       "1995-01-06  6.193593  2.431082  4.261956  2.722540\n",
       "1995-01-09  6.168259  2.416045  4.337057  2.695783"
      ]
     },
     "execution_count": 54,
     "metadata": {},
     "output_type": "execute_result"
    }
   ],
   "source": [
    "# Let's save and load the data\n",
    "portfolio.to_csv(\"porfolio.csv\")\n",
    "portfolio=pd.read_csv('porfolio.csv',index_col=0)\n",
    "portfolio.head()"
   ]
  },
  {
   "cell_type": "code",
   "execution_count": 55,
   "metadata": {},
   "outputs": [
    {
     "name": "stdout",
     "output_type": "stream",
     "text": [
      "<class 'pandas.core.frame.DataFrame'>\n",
      "Index: 6385 entries, 1995-01-03 to 2020-05-12\n",
      "Data columns (total 4 columns):\n",
      " #   Column  Non-Null Count  Dtype  \n",
      "---  ------  --------------  -----  \n",
      " 0   PG      6385 non-null   float64\n",
      " 1   MSFT    6385 non-null   float64\n",
      " 2   F       6385 non-null   float64\n",
      " 3   GE      6385 non-null   float64\n",
      "dtypes: float64(4)\n",
      "memory usage: 249.4+ KB\n"
     ]
    }
   ],
   "source": [
    "# Let's see the function info\n",
    "portfolio.info()"
   ]
  },
  {
   "cell_type": "markdown",
   "metadata": {},
   "source": [
    "We would like to normalize our data to have the same starting point. Hence:\n",
    "\n",
    "  ### Normalization to 100:\n",
    "$$\\frac{P_t}{P_0} *100$$\n",
    "              "
   ]
  },
  {
   "cell_type": "code",
   "execution_count": 56,
   "metadata": {},
   "outputs": [
    {
     "data": {
      "text/plain": [
       "PG      6.320252\n",
       "MSFT    2.413537\n",
       "F       4.186858\n",
       "GE      2.729230\n",
       "Name: 1995-01-03, dtype: float64"
      ]
     },
     "execution_count": 56,
     "metadata": {},
     "output_type": "execute_result"
    }
   ],
   "source": [
    "# We will use the iloc to obtain the firts element of the porfolio\n",
    "portfolio.iloc[0]"
   ]
  },
  {
   "cell_type": "code",
   "execution_count": 57,
   "metadata": {},
   "outputs": [
    {
     "data": {
      "image/png": "[encoded data removed]",
      "text/plain": [
       "<Figure size 1080x432 with 1 Axes>"
      ]
     },
     "metadata": {
      "needs_background": "light"
     },
     "output_type": "display_data"
    }
   ],
   "source": [
    "# Let's plot the data with normalization\n",
    "(portfolio/portfolio.iloc[0]*100).plot(figsize=(15,6));"
   ]
  },
  {
   "cell_type": "code",
   "execution_count": 58,
   "metadata": {},
   "outputs": [
    {
     "data": {
      "text/plain": [
       "<Figure size 432x288 with 0 Axes>"
      ]
     },
     "metadata": {},
     "output_type": "display_data"
    }
   ],
   "source": [
    "# Save the plot as a picture\n",
    "plt.savefig('Normalisation-fig-of-portfolio.png')"
   ]
  },
  {
   "cell_type": "code",
   "execution_count": 22,
   "metadata": {},
   "outputs": [
    {
     "data": {
      "image/png": "[encoded data removed]",
      "text/plain": [
       "<Figure size 1152x432 with 1 Axes>"
      ]
     },
     "metadata": {
      "needs_background": "light"
     },
     "output_type": "display_data"
    }
   ],
   "source": [
    "# If we don't do the normalisation the prices would start for a differend point and we couldn't do good prediction\n",
    "porfolio.plot(figsize=(16,6));"
   ]
  },
  {
   "cell_type": "markdown",
   "metadata": {},
   "source": [
    "### Calculating the return of a portfolio of Securities"
   ]
  },
  {
   "cell_type": "code",
   "execution_count": 59,
   "metadata": {},
   "outputs": [
    {
     "data": {
      "text/html": [
       "<div>\n",
       "<style scoped>\n",
       "    .dataframe tbody tr th:only-of-type {\n",
       "        vertical-align: middle;\n",
       "    }\n",
       "\n",
       "    .dataframe tbody tr th {\n",
       "        vertical-align: top;\n",
       "    }\n",
       "\n",
       "    .dataframe thead th {\n",
       "        text-align: right;\n",
       "    }\n",
       "</style>\n",
       "<table border=\"1\" class=\"dataframe\">\n",
       "  <thead>\n",
       "    <tr style=\"text-align: right;\">\n",
       "      <th></th>\n",
       "      <th>PG</th>\n",
       "      <th>MSFT</th>\n",
       "      <th>F</th>\n",
       "      <th>GE</th>\n",
       "    </tr>\n",
       "    <tr>\n",
       "      <th>Date</th>\n",
       "      <th></th>\n",
       "      <th></th>\n",
       "      <th></th>\n",
       "      <th></th>\n",
       "    </tr>\n",
       "  </thead>\n",
       "  <tbody>\n",
       "    <tr>\n",
       "      <th>1995-01-03</th>\n",
       "      <td>NaN</td>\n",
       "      <td>NaN</td>\n",
       "      <td>NaN</td>\n",
       "      <td>NaN</td>\n",
       "    </tr>\n",
       "    <tr>\n",
       "      <th>1995-01-04</th>\n",
       "      <td>-0.008016</td>\n",
       "      <td>0.007269</td>\n",
       "      <td>0.026905</td>\n",
       "      <td>0.000000</td>\n",
       "    </tr>\n",
       "    <tr>\n",
       "      <th>1995-01-05</th>\n",
       "      <td>-0.014142</td>\n",
       "      <td>-0.016495</td>\n",
       "      <td>-0.008734</td>\n",
       "      <td>0.002451</td>\n",
       "    </tr>\n",
       "    <tr>\n",
       "      <th>1995-01-06</th>\n",
       "      <td>0.002049</td>\n",
       "      <td>0.016771</td>\n",
       "      <td>0.000000</td>\n",
       "      <td>-0.004890</td>\n",
       "    </tr>\n",
       "    <tr>\n",
       "      <th>1995-01-09</th>\n",
       "      <td>-0.004090</td>\n",
       "      <td>-0.006185</td>\n",
       "      <td>0.017621</td>\n",
       "      <td>-0.009828</td>\n",
       "    </tr>\n",
       "    <tr>\n",
       "      <th>...</th>\n",
       "      <td>...</td>\n",
       "      <td>...</td>\n",
       "      <td>...</td>\n",
       "      <td>...</td>\n",
       "    </tr>\n",
       "    <tr>\n",
       "      <th>2020-05-06</th>\n",
       "      <td>-0.025084</td>\n",
       "      <td>0.009847</td>\n",
       "      <td>-0.020121</td>\n",
       "      <td>-0.035484</td>\n",
       "    </tr>\n",
       "    <tr>\n",
       "      <th>2020-05-07</th>\n",
       "      <td>-0.008223</td>\n",
       "      <td>0.005807</td>\n",
       "      <td>0.000000</td>\n",
       "      <td>0.021739</td>\n",
       "    </tr>\n",
       "    <tr>\n",
       "      <th>2020-05-08</th>\n",
       "      <td>0.033699</td>\n",
       "      <td>0.005882</td>\n",
       "      <td>0.075975</td>\n",
       "      <td>0.029460</td>\n",
       "    </tr>\n",
       "    <tr>\n",
       "      <th>2020-05-11</th>\n",
       "      <td>-0.005520</td>\n",
       "      <td>0.011154</td>\n",
       "      <td>-0.022901</td>\n",
       "      <td>-0.015898</td>\n",
       "    </tr>\n",
       "    <tr>\n",
       "      <th>2020-05-12</th>\n",
       "      <td>-0.000911</td>\n",
       "      <td>-0.007284</td>\n",
       "      <td>-0.018555</td>\n",
       "      <td>-0.020194</td>\n",
       "    </tr>\n",
       "  </tbody>\n",
       "</table>\n",
       "<p>6385 rows × 4 columns</p>\n",
       "</div>"
      ],
      "text/plain": [
       "                  PG      MSFT         F        GE\n",
       "Date                                              \n",
       "1995-01-03       NaN       NaN       NaN       NaN\n",
       "1995-01-04 -0.008016  0.007269  0.026905  0.000000\n",
       "1995-01-05 -0.014142 -0.016495 -0.008734  0.002451\n",
       "1995-01-06  0.002049  0.016771  0.000000 -0.004890\n",
       "1995-01-09 -0.004090 -0.006185  0.017621 -0.009828\n",
       "...              ...       ...       ...       ...\n",
       "2020-05-06 -0.025084  0.009847 -0.020121 -0.035484\n",
       "2020-05-07 -0.008223  0.005807  0.000000  0.021739\n",
       "2020-05-08  0.033699  0.005882  0.075975  0.029460\n",
       "2020-05-11 -0.005520  0.011154 -0.022901 -0.015898\n",
       "2020-05-12 -0.000911 -0.007284 -0.018555 -0.020194\n",
       "\n",
       "[6385 rows x 4 columns]"
      ]
     },
     "execution_count": 59,
     "metadata": {},
     "output_type": "execute_result"
    }
   ],
   "source": [
    "# I will use simple returns because is the better way to calculate multiple stock in the same time period \n",
    "returns=(portfolio/portfolio.shift(1))-1\n",
    "returns"
   ]
  },
  {
   "cell_type": "code",
   "execution_count": 61,
   "metadata": {},
   "outputs": [
    {
     "data": {
      "text/plain": [
       "array([        nan,  0.00653965, -0.00922985, ...,  0.03625408,\n",
       "       -0.00829102, -0.01173574])"
      ]
     },
     "execution_count": 61,
     "metadata": {},
     "output_type": "execute_result"
    }
   ],
   "source": [
    "# I' ll create a numpy array with the weights of the each stock in the portfolio\n",
    "# The portfolio is equally weighted so:\n",
    "weights=np.array([0.25,0.25,0.25,0.25])\n",
    "# Let's multiply the weights with the return and we will do the dot multiplication because we have matrics\n",
    "np.dot(returns,weights)"
   ]
  },
  {
   "cell_type": "markdown",
   "metadata": {},
   "source": [
    "It's not so good because we forgot to find the annual return of the return\n",
    "\n",
    "So, let's do it"
   ]
  },
  {
   "cell_type": "code",
   "execution_count": 62,
   "metadata": {},
   "outputs": [
    {
     "data": {
      "text/plain": [
       "0.13171762208959023"
      ]
     },
     "execution_count": 62,
     "metadata": {},
     "output_type": "execute_result"
    }
   ],
   "source": [
    "annual_returns=returns.mean()*250\n",
    "np.dot(annual_returns,weights)"
   ]
  },
  {
   "cell_type": "code",
   "execution_count": 64,
   "metadata": {},
   "outputs": [
    {
     "data": {
      "text/plain": [
       "'13.17%'"
      ]
     },
     "execution_count": 64,
     "metadata": {},
     "output_type": "execute_result"
    }
   ],
   "source": [
    "# Lets save the average return of the porfolio\n",
    "portf_1=str(round(np.dot(annual_returns,weights)*100,2)) + '%'\n",
    "portf_1"
   ]
  },
  {
   "cell_type": "markdown",
   "metadata": {},
   "source": [
    "## Compare with another portfolio\n",
    "\n",
    "The weights of the new portfolio it will be\n",
    "* 0.4\n",
    "* 0.4\n",
    "* 0.15\n",
    "* 0.05\n",
    "\n",
    "The sum of the weight have to be all the times 1."
   ]
  },
  {
   "cell_type": "code",
   "execution_count": 65,
   "metadata": {},
   "outputs": [
    {
     "name": "stdout",
     "output_type": "stream",
     "text": [
      "13.17%\n",
      "15.85%\n"
     ]
    }
   ],
   "source": [
    "weights_2=np.array([0.4,0.4,0.15,0.05])\n",
    "portf_2=str(round(np.dot(annual_returns,weights_2)*100,2)) + '%'\n",
    "print (porf_1)\n",
    "print (porf_2)"
   ]
  },
  {
   "cell_type": "markdown",
   "metadata": {},
   "source": [
    "### Market index\n",
    "\n",
    "Market index provides an idea how a stock market is performing. It is a good overall proxy of the market's development.\n",
    "\n",
    "Because it is very difficult to calculate each of the stocks in the stock market practitioners are using market index to understand how a market is performing.\n",
    "\n",
    "Three known stock indices in US are:\n",
    "\n",
    "* STANDARD AND POOR'S 500 https://en.wikipedia.org/wiki/S%26P_500_Index\n",
    "* DOWJONES https://en.wikipedia.org/wiki/Dow_Jones_Industrial_Average\n",
    "* NASDAQ https://en.wikipedia.org/wiki/Nasdaq\n",
    "\n",
    "Other known indices :\n",
    "* FTSE (UK) https://en.wikipedia.org/wiki/FTSE_100_Index\n",
    "* DAX 30 (GERMANY) https://en.wikipedia.org/wiki/DAX\n",
    "* NIKKE (JAPAN) https://en.wikipedia.org/wiki/Nikkei_225\n",
    "\n",
    "And a Global index (includes stocks for all developed markets in the world):\n",
    "* MSCI https://en.wikipedia.org/wiki/MSCI_World\n",
    "\n",
    "### Why to know about stock indices?\n",
    "\n",
    "Stock indices are an excellent comparator to understand how your own stocks are performing and they indicate what to expect if you invest in a diversified portfolio.\n",
    "\n",
    "### Let's calculate these indices"
   ]
  },
  {
   "cell_type": "code",
   "execution_count": 33,
   "metadata": {},
   "outputs": [
    {
     "name": "stdout",
     "output_type": "stream",
     "text": [
      "[*********************100%***********************]  1 of 1 completed\n",
      "[*********************100%***********************]  1 of 1 completed\n",
      "[*********************100%***********************]  1 of 1 completed\n",
      "[*********************100%***********************]  1 of 1 completed\n"
     ]
    },
    {
     "data": {
      "text/html": [
       "<div>\n",
       "<style scoped>\n",
       "    .dataframe tbody tr th:only-of-type {\n",
       "        vertical-align: middle;\n",
       "    }\n",
       "\n",
       "    .dataframe tbody tr th {\n",
       "        vertical-align: top;\n",
       "    }\n",
       "\n",
       "    .dataframe thead th {\n",
       "        text-align: right;\n",
       "    }\n",
       "</style>\n",
       "<table border=\"1\" class=\"dataframe\">\n",
       "  <thead>\n",
       "    <tr style=\"text-align: right;\">\n",
       "      <th></th>\n",
       "      <th>^GSPC</th>\n",
       "      <th>^IXIC</th>\n",
       "      <th>^GDAXI</th>\n",
       "      <th>^FTSE</th>\n",
       "    </tr>\n",
       "    <tr>\n",
       "      <th>Date</th>\n",
       "      <th></th>\n",
       "      <th></th>\n",
       "      <th></th>\n",
       "      <th></th>\n",
       "    </tr>\n",
       "  </thead>\n",
       "  <tbody>\n",
       "    <tr>\n",
       "      <th>1997-01-02</th>\n",
       "      <td>737.010010</td>\n",
       "      <td>1280.699951</td>\n",
       "      <td>2820.810059</td>\n",
       "      <td>4057.399902</td>\n",
       "    </tr>\n",
       "    <tr>\n",
       "      <th>1997-01-03</th>\n",
       "      <td>748.030029</td>\n",
       "      <td>1310.680054</td>\n",
       "      <td>2863.260010</td>\n",
       "      <td>4089.500000</td>\n",
       "    </tr>\n",
       "    <tr>\n",
       "      <th>1997-01-06</th>\n",
       "      <td>747.650024</td>\n",
       "      <td>1316.400024</td>\n",
       "      <td>2890.199951</td>\n",
       "      <td>4106.500000</td>\n",
       "    </tr>\n",
       "    <tr>\n",
       "      <th>1997-01-07</th>\n",
       "      <td>753.229980</td>\n",
       "      <td>1327.729980</td>\n",
       "      <td>2876.340088</td>\n",
       "      <td>4078.800049</td>\n",
       "    </tr>\n",
       "    <tr>\n",
       "      <th>1997-01-08</th>\n",
       "      <td>748.409973</td>\n",
       "      <td>1320.349976</td>\n",
       "      <td>2904.080078</td>\n",
       "      <td>4087.500000</td>\n",
       "    </tr>\n",
       "  </tbody>\n",
       "</table>\n",
       "</div>"
      ],
      "text/plain": [
       "                 ^GSPC        ^IXIC       ^GDAXI        ^FTSE\n",
       "Date                                                         \n",
       "1997-01-02  737.010010  1280.699951  2820.810059  4057.399902\n",
       "1997-01-03  748.030029  1310.680054  2863.260010  4089.500000\n",
       "1997-01-06  747.650024  1316.400024  2890.199951  4106.500000\n",
       "1997-01-07  753.229980  1327.729980  2876.340088  4078.800049\n",
       "1997-01-08  748.409973  1320.349976  2904.080078  4087.500000"
      ]
     },
     "execution_count": 33,
     "metadata": {},
     "output_type": "execute_result"
    }
   ],
   "source": [
    "# The tickers of the stock indices that I will calculate\n",
    "tickers=['^GSPC','^IXIC','^GDAXI','^FTSE']\n",
    "# Because is indices we have to use the simple `^` to make the distinction between indices and stocks\n",
    "# The tickers are S&P500, NASDAQ, German DAX, London FTSE\n",
    "\n",
    "# Let's create the DataFrame\n",
    "ind_data=pd.DataFrame()\n",
    "\n",
    "# Load the data\n",
    "for t in tickers:\n",
    "    ind_data[t]=yf.download(t,start='1997-1-2')['Adj Close']\n",
    "#The first 5 rows\n",
    "ind_data.head()"
   ]
  },
  {
   "cell_type": "code",
   "execution_count": 34,
   "metadata": {},
   "outputs": [
    {
     "data": {
      "text/html": [
       "<div>\n",
       "<style scoped>\n",
       "    .dataframe tbody tr th:only-of-type {\n",
       "        vertical-align: middle;\n",
       "    }\n",
       "\n",
       "    .dataframe tbody tr th {\n",
       "        vertical-align: top;\n",
       "    }\n",
       "\n",
       "    .dataframe thead th {\n",
       "        text-align: right;\n",
       "    }\n",
       "</style>\n",
       "<table border=\"1\" class=\"dataframe\">\n",
       "  <thead>\n",
       "    <tr style=\"text-align: right;\">\n",
       "      <th></th>\n",
       "      <th>^GSPC</th>\n",
       "      <th>^IXIC</th>\n",
       "      <th>^GDAXI</th>\n",
       "      <th>^FTSE</th>\n",
       "    </tr>\n",
       "    <tr>\n",
       "      <th>Date</th>\n",
       "      <th></th>\n",
       "      <th></th>\n",
       "      <th></th>\n",
       "      <th></th>\n",
       "    </tr>\n",
       "  </thead>\n",
       "  <tbody>\n",
       "    <tr>\n",
       "      <th>1997-01-02</th>\n",
       "      <td>737.010010</td>\n",
       "      <td>1280.699951</td>\n",
       "      <td>2820.810059</td>\n",
       "      <td>4057.399902</td>\n",
       "    </tr>\n",
       "    <tr>\n",
       "      <th>1997-01-03</th>\n",
       "      <td>748.030029</td>\n",
       "      <td>1310.680054</td>\n",
       "      <td>2863.260010</td>\n",
       "      <td>4089.500000</td>\n",
       "    </tr>\n",
       "    <tr>\n",
       "      <th>1997-01-06</th>\n",
       "      <td>747.650024</td>\n",
       "      <td>1316.400024</td>\n",
       "      <td>2890.199951</td>\n",
       "      <td>4106.500000</td>\n",
       "    </tr>\n",
       "    <tr>\n",
       "      <th>1997-01-07</th>\n",
       "      <td>753.229980</td>\n",
       "      <td>1327.729980</td>\n",
       "      <td>2876.340088</td>\n",
       "      <td>4078.800049</td>\n",
       "    </tr>\n",
       "    <tr>\n",
       "      <th>1997-01-08</th>\n",
       "      <td>748.409973</td>\n",
       "      <td>1320.349976</td>\n",
       "      <td>2904.080078</td>\n",
       "      <td>4087.500000</td>\n",
       "    </tr>\n",
       "  </tbody>\n",
       "</table>\n",
       "</div>"
      ],
      "text/plain": [
       "                 ^GSPC        ^IXIC       ^GDAXI        ^FTSE\n",
       "Date                                                         \n",
       "1997-01-02  737.010010  1280.699951  2820.810059  4057.399902\n",
       "1997-01-03  748.030029  1310.680054  2863.260010  4089.500000\n",
       "1997-01-06  747.650024  1316.400024  2890.199951  4106.500000\n",
       "1997-01-07  753.229980  1327.729980  2876.340088  4078.800049\n",
       "1997-01-08  748.409973  1320.349976  2904.080078  4087.500000"
      ]
     },
     "execution_count": 34,
     "metadata": {},
     "output_type": "execute_result"
    }
   ],
   "source": [
    "# Save the data to csv\n",
    "ind_data.to_csv('stock-indices-price.csv')\n",
    "#load the data\n",
    "ind_data=pd.read_csv('stock-indices-price.csv',index_col=0)\n",
    "# The first 5 rows\n",
    "ind_data.head()"
   ]
  },
  {
   "cell_type": "code",
   "execution_count": 35,
   "metadata": {},
   "outputs": [
    {
     "data": {
      "image/png": "[encoded data removed]",
      "text/plain": [
       "<Figure size 1152x360 with 1 Axes>"
      ]
     },
     "metadata": {
      "needs_background": "light"
     },
     "output_type": "display_data"
    }
   ],
   "source": [
    "# Let's plot the data with normalization\n",
    "(ind_data/ind_data.iloc[0]*100).plot(figsize=(16,5))\n",
    "plt.show()"
   ]
  },
  {
   "cell_type": "code",
   "execution_count": 39,
   "metadata": {},
   "outputs": [
    {
     "data": {
      "text/html": [
       "<div>\n",
       "<style scoped>\n",
       "    .dataframe tbody tr th:only-of-type {\n",
       "        vertical-align: middle;\n",
       "    }\n",
       "\n",
       "    .dataframe tbody tr th {\n",
       "        vertical-align: top;\n",
       "    }\n",
       "\n",
       "    .dataframe thead th {\n",
       "        text-align: right;\n",
       "    }\n",
       "</style>\n",
       "<table border=\"1\" class=\"dataframe\">\n",
       "  <thead>\n",
       "    <tr style=\"text-align: right;\">\n",
       "      <th></th>\n",
       "      <th>^GSPC</th>\n",
       "      <th>^IXIC</th>\n",
       "      <th>^GDAXI</th>\n",
       "      <th>^FTSE</th>\n",
       "    </tr>\n",
       "    <tr>\n",
       "      <th>Date</th>\n",
       "      <th></th>\n",
       "      <th></th>\n",
       "      <th></th>\n",
       "      <th></th>\n",
       "    </tr>\n",
       "  </thead>\n",
       "  <tbody>\n",
       "    <tr>\n",
       "      <th>1997-01-02</th>\n",
       "      <td>NaN</td>\n",
       "      <td>NaN</td>\n",
       "      <td>NaN</td>\n",
       "      <td>NaN</td>\n",
       "    </tr>\n",
       "    <tr>\n",
       "      <th>1997-01-03</th>\n",
       "      <td>0.014952</td>\n",
       "      <td>0.023409</td>\n",
       "      <td>0.015049</td>\n",
       "      <td>0.007911</td>\n",
       "    </tr>\n",
       "    <tr>\n",
       "      <th>1997-01-06</th>\n",
       "      <td>-0.000508</td>\n",
       "      <td>0.004364</td>\n",
       "      <td>0.009409</td>\n",
       "      <td>0.004157</td>\n",
       "    </tr>\n",
       "    <tr>\n",
       "      <th>1997-01-07</th>\n",
       "      <td>0.007463</td>\n",
       "      <td>0.008607</td>\n",
       "      <td>-0.004795</td>\n",
       "      <td>-0.006745</td>\n",
       "    </tr>\n",
       "    <tr>\n",
       "      <th>1997-01-08</th>\n",
       "      <td>-0.006399</td>\n",
       "      <td>-0.005558</td>\n",
       "      <td>0.009644</td>\n",
       "      <td>0.002133</td>\n",
       "    </tr>\n",
       "  </tbody>\n",
       "</table>\n",
       "</div>"
      ],
      "text/plain": [
       "               ^GSPC     ^IXIC    ^GDAXI     ^FTSE\n",
       "Date                                              \n",
       "1997-01-02       NaN       NaN       NaN       NaN\n",
       "1997-01-03  0.014952  0.023409  0.015049  0.007911\n",
       "1997-01-06 -0.000508  0.004364  0.009409  0.004157\n",
       "1997-01-07  0.007463  0.008607 -0.004795 -0.006745\n",
       "1997-01-08 -0.006399 -0.005558  0.009644  0.002133"
      ]
     },
     "execution_count": 39,
     "metadata": {},
     "output_type": "execute_result"
    }
   ],
   "source": [
    "# Let's calculate the simple return rate \n",
    "ind_returns=(ind_data/ind_data.shift(1))-1\n",
    "#See the first five rows\n",
    "ind_returns.head()"
   ]
  },
  {
   "cell_type": "code",
   "execution_count": 40,
   "metadata": {},
   "outputs": [
    {
     "data": {
      "text/plain": [
       "^GSPC     0.078109\n",
       "^IXIC     0.115867\n",
       "^GDAXI    0.071713\n",
       "^FTSE     0.030681\n",
       "dtype: float64"
      ]
     },
     "execution_count": 40,
     "metadata": {},
     "output_type": "execute_result"
    }
   ],
   "source": [
    "# Let's find the mean annual return\n",
    "ind_returns=ind_returns.mean()*250\n",
    "#Print \n"
   ]
  },
  {
   "cell_type": "markdown",
   "metadata": {},
   "source": [
    "### Putting everything together\n",
    "\n",
    "The last think that we are going to do is to compare P&G stock with S&P500 and DowJones market indices"
   ]
  },
  {
   "cell_type": "code",
   "execution_count": 48,
   "metadata": {},
   "outputs": [
    {
     "name": "stdout",
     "output_type": "stream",
     "text": [
      "[*********************100%***********************]  1 of 1 completed\n",
      "[*********************100%***********************]  1 of 1 completed\n",
      "[*********************100%***********************]  1 of 1 completed\n"
     ]
    },
    {
     "data": {
      "text/html": [
       "<div>\n",
       "<style scoped>\n",
       "    .dataframe tbody tr th:only-of-type {\n",
       "        vertical-align: middle;\n",
       "    }\n",
       "\n",
       "    .dataframe tbody tr th {\n",
       "        vertical-align: top;\n",
       "    }\n",
       "\n",
       "    .dataframe thead th {\n",
       "        text-align: right;\n",
       "    }\n",
       "</style>\n",
       "<table border=\"1\" class=\"dataframe\">\n",
       "  <thead>\n",
       "    <tr style=\"text-align: right;\">\n",
       "      <th></th>\n",
       "      <th>PG</th>\n",
       "      <th>^GSPC</th>\n",
       "      <th>^DJI</th>\n",
       "    </tr>\n",
       "    <tr>\n",
       "      <th>Date</th>\n",
       "      <th></th>\n",
       "      <th></th>\n",
       "      <th></th>\n",
       "    </tr>\n",
       "  </thead>\n",
       "  <tbody>\n",
       "    <tr>\n",
       "      <th>2020-05-06</th>\n",
       "      <td>113.099998</td>\n",
       "      <td>2848.419922</td>\n",
       "      <td>23664.640625</td>\n",
       "    </tr>\n",
       "    <tr>\n",
       "      <th>2020-05-07</th>\n",
       "      <td>112.169998</td>\n",
       "      <td>2881.189941</td>\n",
       "      <td>23875.890625</td>\n",
       "    </tr>\n",
       "    <tr>\n",
       "      <th>2020-05-08</th>\n",
       "      <td>115.949997</td>\n",
       "      <td>2929.800049</td>\n",
       "      <td>24331.320312</td>\n",
       "    </tr>\n",
       "    <tr>\n",
       "      <th>2020-05-11</th>\n",
       "      <td>115.309998</td>\n",
       "      <td>2930.189941</td>\n",
       "      <td>24221.990234</td>\n",
       "    </tr>\n",
       "    <tr>\n",
       "      <th>2020-05-12</th>\n",
       "      <td>115.004997</td>\n",
       "      <td>2924.790039</td>\n",
       "      <td>24209.380859</td>\n",
       "    </tr>\n",
       "  </tbody>\n",
       "</table>\n",
       "</div>"
      ],
      "text/plain": [
       "                    PG        ^GSPC          ^DJI\n",
       "Date                                             \n",
       "2020-05-06  113.099998  2848.419922  23664.640625\n",
       "2020-05-07  112.169998  2881.189941  23875.890625\n",
       "2020-05-08  115.949997  2929.800049  24331.320312\n",
       "2020-05-11  115.309998  2930.189941  24221.990234\n",
       "2020-05-12  115.004997  2924.790039  24209.380859"
      ]
     },
     "execution_count": 48,
     "metadata": {},
     "output_type": "execute_result"
    }
   ],
   "source": [
    "# Create the tickers\n",
    "tickers=['PG','^GSPC','^DJI']\n",
    "# Create the DataFrame\n",
    "com_data=pd.DataFrame()\n",
    "# Load the data\n",
    "for t in tickers:\n",
    "    com_data[t]=yf.download(t,start='1997-1-1')['Adj Close']\n",
    "# See the first last rows\n",
    "com_data.tail()"
   ]
  },
  {
   "cell_type": "code",
   "execution_count": 49,
   "metadata": {},
   "outputs": [
    {
     "data": {
      "text/html": [
       "<div>\n",
       "<style scoped>\n",
       "    .dataframe tbody tr th:only-of-type {\n",
       "        vertical-align: middle;\n",
       "    }\n",
       "\n",
       "    .dataframe tbody tr th {\n",
       "        vertical-align: top;\n",
       "    }\n",
       "\n",
       "    .dataframe thead th {\n",
       "        text-align: right;\n",
       "    }\n",
       "</style>\n",
       "<table border=\"1\" class=\"dataframe\">\n",
       "  <thead>\n",
       "    <tr style=\"text-align: right;\">\n",
       "      <th></th>\n",
       "      <th>PG</th>\n",
       "      <th>^GSPC</th>\n",
       "      <th>^DJI</th>\n",
       "    </tr>\n",
       "    <tr>\n",
       "      <th>Date</th>\n",
       "      <th></th>\n",
       "      <th></th>\n",
       "      <th></th>\n",
       "    </tr>\n",
       "  </thead>\n",
       "  <tbody>\n",
       "    <tr>\n",
       "      <th>2020-05-06</th>\n",
       "      <td>113.099998</td>\n",
       "      <td>2848.419922</td>\n",
       "      <td>23664.640625</td>\n",
       "    </tr>\n",
       "    <tr>\n",
       "      <th>2020-05-07</th>\n",
       "      <td>112.169998</td>\n",
       "      <td>2881.189941</td>\n",
       "      <td>23875.890625</td>\n",
       "    </tr>\n",
       "    <tr>\n",
       "      <th>2020-05-08</th>\n",
       "      <td>115.949997</td>\n",
       "      <td>2929.800049</td>\n",
       "      <td>24331.320312</td>\n",
       "    </tr>\n",
       "    <tr>\n",
       "      <th>2020-05-11</th>\n",
       "      <td>115.309998</td>\n",
       "      <td>2930.189941</td>\n",
       "      <td>24221.990234</td>\n",
       "    </tr>\n",
       "    <tr>\n",
       "      <th>2020-05-12</th>\n",
       "      <td>115.004997</td>\n",
       "      <td>2924.790039</td>\n",
       "      <td>24209.380859</td>\n",
       "    </tr>\n",
       "  </tbody>\n",
       "</table>\n",
       "</div>"
      ],
      "text/plain": [
       "                    PG        ^GSPC          ^DJI\n",
       "Date                                             \n",
       "2020-05-06  113.099998  2848.419922  23664.640625\n",
       "2020-05-07  112.169998  2881.189941  23875.890625\n",
       "2020-05-08  115.949997  2929.800049  24331.320312\n",
       "2020-05-11  115.309998  2930.189941  24221.990234\n",
       "2020-05-12  115.004997  2924.790039  24209.380859"
      ]
     },
     "execution_count": 49,
     "metadata": {},
     "output_type": "execute_result"
    }
   ],
   "source": [
    "#Let's save the data\n",
    "com_data.to_csv('P&G500-compares-with-market-indices.csv')\n",
    "#Let's load the data\n",
    "com_data=pd.read_csv('P&G500-compares-with-market-indices.csv',index_col=0)\n",
    "#Let's see the last five rows\n",
    "com_data.tail()"
   ]
  },
  {
   "cell_type": "code",
   "execution_count": 50,
   "metadata": {},
   "outputs": [
    {
     "data": {
      "image/png": "[encoded data removed]",
      "text/plain": [
       "<Figure size 1152x360 with 1 Axes>"
      ]
     },
     "metadata": {
      "needs_background": "light"
     },
     "output_type": "display_data"
    }
   ],
   "source": [
    "#Let's plot the data with the nomalization method\n",
    "(com_data/com_data.iloc[0]*100).plot(figsize=(16,5))\n",
    "plt.show()"
   ]
  },
  {
   "cell_type": "code",
   "execution_count": null,
   "metadata": {},
   "outputs": [],
   "source": []
  }
 ],
 "metadata": {
  "kernelspec": {
   "display_name": "Python 3",
   "language": "python",
   "name": "python3"
  },
  "language_info": {
   "codemirror_mode": {
    "name": "ipython",
    "version": 3
   },
   "file_extension": ".py",
   "mimetype": "text/x-python",
   "name": "python",
   "nbconvert_exporter": "python",
   "pygments_lexer": "ipython3",
   "version": "3.6.10"
  }
 },
 "nbformat": 4,
 "nbformat_minor": 4
}
